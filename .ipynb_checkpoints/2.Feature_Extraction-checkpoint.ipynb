{
 "cells": [
  {
   "cell_type": "code",
   "execution_count": 1,
   "metadata": {},
   "outputs": [
    {
     "data": {
      "text/html": [
       "<div>\n",
       "<style scoped>\n",
       "    .dataframe tbody tr th:only-of-type {\n",
       "        vertical-align: middle;\n",
       "    }\n",
       "\n",
       "    .dataframe tbody tr th {\n",
       "        vertical-align: top;\n",
       "    }\n",
       "\n",
       "    .dataframe thead th {\n",
       "        text-align: right;\n",
       "    }\n",
       "</style>\n",
       "<table border=\"1\" class=\"dataframe\">\n",
       "  <thead>\n",
       "    <tr style=\"text-align: right;\">\n",
       "      <th></th>\n",
       "      <th>id</th>\n",
       "      <th>text</th>\n",
       "      <th>favorited</th>\n",
       "      <th>favoriteCount</th>\n",
       "      <th>replyToSN</th>\n",
       "      <th>created</th>\n",
       "      <th>truncated</th>\n",
       "      <th>replyToSID</th>\n",
       "      <th>id.1</th>\n",
       "      <th>replyToUID</th>\n",
       "      <th>statusSource</th>\n",
       "      <th>screenName</th>\n",
       "      <th>retweetCount</th>\n",
       "      <th>isRetweet</th>\n",
       "      <th>retweeted</th>\n",
       "      <th>longitude</th>\n",
       "      <th>latitude</th>\n",
       "      <th>label</th>\n",
       "    </tr>\n",
       "  </thead>\n",
       "  <tbody>\n",
       "    <tr>\n",
       "      <th>0</th>\n",
       "      <td>0</td>\n",
       "      <td>Senior United States District Judge Robert E. Payne today ruled in favor of Trump campaign deleg...</td>\n",
       "      <td>False</td>\n",
       "      <td>14207</td>\n",
       "      <td>NaN</td>\n",
       "      <td>07/12/2016 00:56</td>\n",
       "      <td>False</td>\n",
       "      <td>NaN</td>\n",
       "      <td>7.530000e+17</td>\n",
       "      <td>NaN</td>\n",
       "      <td>&lt;a href=\"http://twitter.com/download/iphone\" rel=\"nofollow\"&gt;Twitter for iPhone&lt;/a&gt;</td>\n",
       "      <td>realDonaldTrump</td>\n",
       "      <td>5256</td>\n",
       "      <td>False</td>\n",
       "      <td>False</td>\n",
       "      <td>NaN</td>\n",
       "      <td>NaN</td>\n",
       "      <td>-1</td>\n",
       "    </tr>\n",
       "    <tr>\n",
       "      <th>1</th>\n",
       "      <td>1</td>\n",
       "      <td>Speech on Veterans' Reform:  https://t.co/XB7RMwesMK</td>\n",
       "      <td>False</td>\n",
       "      <td>9666</td>\n",
       "      <td>NaN</td>\n",
       "      <td>07/11/2016 22:18</td>\n",
       "      <td>False</td>\n",
       "      <td>NaN</td>\n",
       "      <td>7.530000e+17</td>\n",
       "      <td>NaN</td>\n",
       "      <td>&lt;a href=\"http://twitter.com/download/iphone\" rel=\"nofollow\"&gt;Twitter for iPhone&lt;/a&gt;</td>\n",
       "      <td>realDonaldTrump</td>\n",
       "      <td>3432</td>\n",
       "      <td>False</td>\n",
       "      <td>False</td>\n",
       "      <td>NaN</td>\n",
       "      <td>NaN</td>\n",
       "      <td>-1</td>\n",
       "    </tr>\n",
       "    <tr>\n",
       "      <th>2</th>\n",
       "      <td>2</td>\n",
       "      <td>Great poll- Florida! Thank you! https://t.co/4FuPpL5WOM</td>\n",
       "      <td>False</td>\n",
       "      <td>25531</td>\n",
       "      <td>NaN</td>\n",
       "      <td>07/11/2016 21:40</td>\n",
       "      <td>False</td>\n",
       "      <td>NaN</td>\n",
       "      <td>7.530000e+17</td>\n",
       "      <td>NaN</td>\n",
       "      <td>&lt;a href=\"http://twitter.com/download/iphone\" rel=\"nofollow\"&gt;Twitter for iPhone&lt;/a&gt;</td>\n",
       "      <td>realDonaldTrump</td>\n",
       "      <td>8810</td>\n",
       "      <td>False</td>\n",
       "      <td>False</td>\n",
       "      <td>NaN</td>\n",
       "      <td>NaN</td>\n",
       "      <td>-1</td>\n",
       "    </tr>\n",
       "    <tr>\n",
       "      <th>3</th>\n",
       "      <td>3</td>\n",
       "      <td>Thoughts and prayers with the victims; and their families- along with everyone at the Berrien Co...</td>\n",
       "      <td>False</td>\n",
       "      <td>28850</td>\n",
       "      <td>NaN</td>\n",
       "      <td>07/11/2016 19:51</td>\n",
       "      <td>False</td>\n",
       "      <td>NaN</td>\n",
       "      <td>7.530000e+17</td>\n",
       "      <td>NaN</td>\n",
       "      <td>&lt;a href=\"http://twitter.com/download/iphone\" rel=\"nofollow\"&gt;Twitter for iPhone&lt;/a&gt;</td>\n",
       "      <td>realDonaldTrump</td>\n",
       "      <td>9112</td>\n",
       "      <td>False</td>\n",
       "      <td>False</td>\n",
       "      <td>NaN</td>\n",
       "      <td>NaN</td>\n",
       "      <td>-1</td>\n",
       "    </tr>\n",
       "    <tr>\n",
       "      <th>4</th>\n",
       "      <td>4</td>\n",
       "      <td>Join me in Westfield; Indiana- tomorrow night at 7:30pm! #Trump2016   Tickets: https://t.co/Jj9T...</td>\n",
       "      <td>False</td>\n",
       "      <td>12567</td>\n",
       "      <td>NaN</td>\n",
       "      <td>07/11/2016 11:57</td>\n",
       "      <td>False</td>\n",
       "      <td>NaN</td>\n",
       "      <td>7.520000e+17</td>\n",
       "      <td>NaN</td>\n",
       "      <td>&lt;a href=\"http://twitter.com/download/iphone\" rel=\"nofollow\"&gt;Twitter for iPhone&lt;/a&gt;</td>\n",
       "      <td>realDonaldTrump</td>\n",
       "      <td>4144</td>\n",
       "      <td>False</td>\n",
       "      <td>False</td>\n",
       "      <td>NaN</td>\n",
       "      <td>NaN</td>\n",
       "      <td>-1</td>\n",
       "    </tr>\n",
       "  </tbody>\n",
       "</table>\n",
       "</div>"
      ],
      "text/plain": [
       "   id  \\\n",
       "0   0   \n",
       "1   1   \n",
       "2   2   \n",
       "3   3   \n",
       "4   4   \n",
       "\n",
       "                                                                                                  text  \\\n",
       "0  Senior United States District Judge Robert E. Payne today ruled in favor of Trump campaign deleg...   \n",
       "1                                                 Speech on Veterans' Reform:  https://t.co/XB7RMwesMK   \n",
       "2                                              Great poll- Florida! Thank you! https://t.co/4FuPpL5WOM   \n",
       "3  Thoughts and prayers with the victims; and their families- along with everyone at the Berrien Co...   \n",
       "4  Join me in Westfield; Indiana- tomorrow night at 7:30pm! #Trump2016   Tickets: https://t.co/Jj9T...   \n",
       "\n",
       "   favorited  favoriteCount replyToSN           created  truncated  \\\n",
       "0      False          14207       NaN  07/12/2016 00:56      False   \n",
       "1      False           9666       NaN  07/11/2016 22:18      False   \n",
       "2      False          25531       NaN  07/11/2016 21:40      False   \n",
       "3      False          28850       NaN  07/11/2016 19:51      False   \n",
       "4      False          12567       NaN  07/11/2016 11:57      False   \n",
       "\n",
       "   replyToSID          id.1  replyToUID  \\\n",
       "0         NaN  7.530000e+17         NaN   \n",
       "1         NaN  7.530000e+17         NaN   \n",
       "2         NaN  7.530000e+17         NaN   \n",
       "3         NaN  7.530000e+17         NaN   \n",
       "4         NaN  7.520000e+17         NaN   \n",
       "\n",
       "                                                                         statusSource  \\\n",
       "0  <a href=\"http://twitter.com/download/iphone\" rel=\"nofollow\">Twitter for iPhone</a>   \n",
       "1  <a href=\"http://twitter.com/download/iphone\" rel=\"nofollow\">Twitter for iPhone</a>   \n",
       "2  <a href=\"http://twitter.com/download/iphone\" rel=\"nofollow\">Twitter for iPhone</a>   \n",
       "3  <a href=\"http://twitter.com/download/iphone\" rel=\"nofollow\">Twitter for iPhone</a>   \n",
       "4  <a href=\"http://twitter.com/download/iphone\" rel=\"nofollow\">Twitter for iPhone</a>   \n",
       "\n",
       "        screenName  retweetCount  isRetweet  retweeted  longitude  latitude  \\\n",
       "0  realDonaldTrump          5256      False      False        NaN       NaN   \n",
       "1  realDonaldTrump          3432      False      False        NaN       NaN   \n",
       "2  realDonaldTrump          8810      False      False        NaN       NaN   \n",
       "3  realDonaldTrump          9112      False      False        NaN       NaN   \n",
       "4  realDonaldTrump          4144      False      False        NaN       NaN   \n",
       "\n",
       "   label  \n",
       "0     -1  \n",
       "1     -1  \n",
       "2     -1  \n",
       "3     -1  \n",
       "4     -1  "
      ]
     },
     "execution_count": 1,
     "metadata": {},
     "output_type": "execute_result"
    }
   ],
   "source": [
    "import pandas as pd\n",
    "import numpy as np\n",
    "import re\n",
    "import string\n",
    "import nltk\n",
    "pd.set_option('display.max_colwidth', 100)\n",
    "\n",
    "stopwords = nltk.corpus.stopwords.words('english')\n",
    "wn = nltk.WordNetLemmatizer()\n",
    "\n",
    "data = pd.read_csv(\"train.csv\")\n",
    "data.head()"
   ]
  },
  {
   "cell_type": "code",
   "execution_count": 2,
   "metadata": {},
   "outputs": [
    {
     "data": {
      "text/html": [
       "<div>\n",
       "<style scoped>\n",
       "    .dataframe tbody tr th:only-of-type {\n",
       "        vertical-align: middle;\n",
       "    }\n",
       "\n",
       "    .dataframe tbody tr th {\n",
       "        vertical-align: top;\n",
       "    }\n",
       "\n",
       "    .dataframe thead th {\n",
       "        text-align: right;\n",
       "    }\n",
       "</style>\n",
       "<table border=\"1\" class=\"dataframe\">\n",
       "  <thead>\n",
       "    <tr style=\"text-align: right;\">\n",
       "      <th></th>\n",
       "      <th>text_nolink</th>\n",
       "    </tr>\n",
       "  </thead>\n",
       "  <tbody>\n",
       "    <tr>\n",
       "      <th>0</th>\n",
       "      <td>Senior United States District Judge Robert E. Payne today ruled in favor of Trump campaign deleg...</td>\n",
       "    </tr>\n",
       "    <tr>\n",
       "      <th>1</th>\n",
       "      <td>Speech on Veterans' Reform:  http</td>\n",
       "    </tr>\n",
       "    <tr>\n",
       "      <th>2</th>\n",
       "      <td>Great poll- Florida! Thank you! http</td>\n",
       "    </tr>\n",
       "    <tr>\n",
       "      <th>3</th>\n",
       "      <td>Thoughts and prayers with the victims; and their families- along with everyone at the Berrien Co...</td>\n",
       "    </tr>\n",
       "    <tr>\n",
       "      <th>4</th>\n",
       "      <td>Join me in Westfield; Indiana- tomorrow night at 7:30pm! #Trump2016   Tickets: http</td>\n",
       "    </tr>\n",
       "  </tbody>\n",
       "</table>\n",
       "</div>"
      ],
      "text/plain": [
       "                                                                                           text_nolink\n",
       "0  Senior United States District Judge Robert E. Payne today ruled in favor of Trump campaign deleg...\n",
       "1                                                                    Speech on Veterans' Reform:  http\n",
       "2                                                                 Great poll- Florida! Thank you! http\n",
       "3  Thoughts and prayers with the victims; and their families- along with everyone at the Berrien Co...\n",
       "4                  Join me in Westfield; Indiana- tomorrow night at 7:30pm! #Trump2016   Tickets: http"
      ]
     },
     "execution_count": 2,
     "metadata": {},
     "output_type": "execute_result"
    }
   ],
   "source": [
    "data['text_nolink'] = data['text'].apply(lambda x: re.sub('http.*', 'http', x))\n",
    "data[['text_nolink']].head()"
   ]
  },
  {
   "cell_type": "markdown",
   "metadata": {},
   "source": [
    "### Length Tweet"
   ]
  },
  {
   "cell_type": "code",
   "execution_count": 3,
   "metadata": {},
   "outputs": [
    {
     "data": {
      "text/html": [
       "<div>\n",
       "<style scoped>\n",
       "    .dataframe tbody tr th:only-of-type {\n",
       "        vertical-align: middle;\n",
       "    }\n",
       "\n",
       "    .dataframe tbody tr th {\n",
       "        vertical-align: top;\n",
       "    }\n",
       "\n",
       "    .dataframe thead th {\n",
       "        text-align: right;\n",
       "    }\n",
       "</style>\n",
       "<table border=\"1\" class=\"dataframe\">\n",
       "  <thead>\n",
       "    <tr style=\"text-align: right;\">\n",
       "      <th></th>\n",
       "      <th>text</th>\n",
       "      <th>text_len</th>\n",
       "    </tr>\n",
       "  </thead>\n",
       "  <tbody>\n",
       "    <tr>\n",
       "      <th>0</th>\n",
       "      <td>Senior United States District Judge Robert E. Payne today ruled in favor of Trump campaign deleg...</td>\n",
       "      <td>103</td>\n",
       "    </tr>\n",
       "    <tr>\n",
       "      <th>1</th>\n",
       "      <td>Speech on Veterans' Reform:  https://t.co/XB7RMwesMK</td>\n",
       "      <td>28</td>\n",
       "    </tr>\n",
       "    <tr>\n",
       "      <th>2</th>\n",
       "      <td>Great poll- Florida! Thank you! https://t.co/4FuPpL5WOM</td>\n",
       "      <td>31</td>\n",
       "    </tr>\n",
       "    <tr>\n",
       "      <th>3</th>\n",
       "      <td>Thoughts and prayers with the victims; and their families- along with everyone at the Berrien Co...</td>\n",
       "      <td>116</td>\n",
       "    </tr>\n",
       "    <tr>\n",
       "      <th>4</th>\n",
       "      <td>Join me in Westfield; Indiana- tomorrow night at 7:30pm! #Trump2016   Tickets: https://t.co/Jj9T...</td>\n",
       "      <td>70</td>\n",
       "    </tr>\n",
       "  </tbody>\n",
       "</table>\n",
       "</div>"
      ],
      "text/plain": [
       "                                                                                                  text  \\\n",
       "0  Senior United States District Judge Robert E. Payne today ruled in favor of Trump campaign deleg...   \n",
       "1                                                 Speech on Veterans' Reform:  https://t.co/XB7RMwesMK   \n",
       "2                                              Great poll- Florida! Thank you! https://t.co/4FuPpL5WOM   \n",
       "3  Thoughts and prayers with the victims; and their families- along with everyone at the Berrien Co...   \n",
       "4  Join me in Westfield; Indiana- tomorrow night at 7:30pm! #Trump2016   Tickets: https://t.co/Jj9T...   \n",
       "\n",
       "   text_len  \n",
       "0       103  \n",
       "1        28  \n",
       "2        31  \n",
       "3       116  \n",
       "4        70  "
      ]
     },
     "execution_count": 3,
     "metadata": {},
     "output_type": "execute_result"
    }
   ],
   "source": [
    "data['text_len'] = data['text_nolink'].apply(lambda x: len(x) - x.count(\" \"))\n",
    "\n",
    "data[['text','text_len']].head()"
   ]
  },
  {
   "cell_type": "code",
   "execution_count": 4,
   "metadata": {},
   "outputs": [
    {
     "name": "stdout",
     "output_type": "stream",
     "text": [
      "364\n",
      "4\n"
     ]
    }
   ],
   "source": [
    "print(max(data['text_len']))\n",
    "print(min(data['text_len']))"
   ]
  },
  {
   "cell_type": "markdown",
   "metadata": {},
   "source": [
    "Need to remove https link in the tweets"
   ]
  },
  {
   "cell_type": "markdown",
   "metadata": {},
   "source": [
    "### Punctuation"
   ]
  },
  {
   "cell_type": "code",
   "execution_count": 5,
   "metadata": {},
   "outputs": [
    {
     "data": {
      "text/html": [
       "<div>\n",
       "<style scoped>\n",
       "    .dataframe tbody tr th:only-of-type {\n",
       "        vertical-align: middle;\n",
       "    }\n",
       "\n",
       "    .dataframe tbody tr th {\n",
       "        vertical-align: top;\n",
       "    }\n",
       "\n",
       "    .dataframe thead th {\n",
       "        text-align: right;\n",
       "    }\n",
       "</style>\n",
       "<table border=\"1\" class=\"dataframe\">\n",
       "  <thead>\n",
       "    <tr style=\"text-align: right;\">\n",
       "      <th></th>\n",
       "      <th>text_nolink</th>\n",
       "      <th>punct%</th>\n",
       "    </tr>\n",
       "  </thead>\n",
       "  <tbody>\n",
       "    <tr>\n",
       "      <th>0</th>\n",
       "      <td>Senior United States District Judge Robert E. Payne today ruled in favor of Trump campaign deleg...</td>\n",
       "      <td>2.9</td>\n",
       "    </tr>\n",
       "    <tr>\n",
       "      <th>1</th>\n",
       "      <td>Speech on Veterans' Reform:  http</td>\n",
       "      <td>7.1</td>\n",
       "    </tr>\n",
       "    <tr>\n",
       "      <th>2</th>\n",
       "      <td>Great poll- Florida! Thank you! http</td>\n",
       "      <td>9.7</td>\n",
       "    </tr>\n",
       "    <tr>\n",
       "      <th>3</th>\n",
       "      <td>Thoughts and prayers with the victims; and their families- along with everyone at the Berrien Co...</td>\n",
       "      <td>4.3</td>\n",
       "    </tr>\n",
       "    <tr>\n",
       "      <th>4</th>\n",
       "      <td>Join me in Westfield; Indiana- tomorrow night at 7:30pm! #Trump2016   Tickets: http</td>\n",
       "      <td>8.6</td>\n",
       "    </tr>\n",
       "  </tbody>\n",
       "</table>\n",
       "</div>"
      ],
      "text/plain": [
       "                                                                                           text_nolink  \\\n",
       "0  Senior United States District Judge Robert E. Payne today ruled in favor of Trump campaign deleg...   \n",
       "1                                                                    Speech on Veterans' Reform:  http   \n",
       "2                                                                 Great poll- Florida! Thank you! http   \n",
       "3  Thoughts and prayers with the victims; and their families- along with everyone at the Berrien Co...   \n",
       "4                  Join me in Westfield; Indiana- tomorrow night at 7:30pm! #Trump2016   Tickets: http   \n",
       "\n",
       "   punct%  \n",
       "0     2.9  \n",
       "1     7.1  \n",
       "2     9.7  \n",
       "3     4.3  \n",
       "4     8.6  "
      ]
     },
     "execution_count": 5,
     "metadata": {},
     "output_type": "execute_result"
    }
   ],
   "source": [
    "import string\n",
    "\n",
    "def count_punct(text):\n",
    "    count = sum([1 for char in text if char in string.punctuation])\n",
    "    return round(count/(len(text) - text.count(\" \")), 3)*100\n",
    "\n",
    "data['punct%'] = data['text_nolink'].apply(lambda x: count_punct(x))\n",
    "\n",
    "data[['text_nolink','punct%']].head()"
   ]
  },
  {
   "cell_type": "markdown",
   "metadata": {},
   "source": [
    "### Length of Word"
   ]
  },
  {
   "cell_type": "markdown",
   "metadata": {},
   "source": [
    "### Capital Words"
   ]
  },
  {
   "cell_type": "markdown",
   "metadata": {},
   "source": [
    "### Favorite Count"
   ]
  },
  {
   "cell_type": "code",
   "execution_count": 6,
   "metadata": {},
   "outputs": [
    {
     "name": "stdout",
     "output_type": "stream",
     "text": [
      "291476\n",
      "2304\n",
      "15690.0\n"
     ]
    }
   ],
   "source": [
    "import numpy as np\n",
    "print(max(data['favoriteCount']))\n",
    "print(min(data['favoriteCount']))\n",
    "print(round(np.mean(data['favoriteCount']), 0))"
   ]
  },
  {
   "cell_type": "markdown",
   "metadata": {},
   "source": [
    "### Retweet Count"
   ]
  },
  {
   "cell_type": "code",
   "execution_count": 7,
   "metadata": {},
   "outputs": [
    {
     "name": "stdout",
     "output_type": "stream",
     "text": [
      "169526\n",
      "713\n",
      "5425.0\n"
     ]
    }
   ],
   "source": [
    "print(max(data['retweetCount']))\n",
    "print(min(data['retweetCount']))\n",
    "print(round(np.mean(data['retweetCount']), 0))"
   ]
  },
  {
   "cell_type": "markdown",
   "metadata": {},
   "source": [
    "### Time "
   ]
  },
  {
   "cell_type": "markdown",
   "metadata": {},
   "source": [
    "Day Of The Week"
   ]
  },
  {
   "cell_type": "code",
   "execution_count": 8,
   "metadata": {},
   "outputs": [
    {
     "data": {
      "text/html": [
       "<div>\n",
       "<style scoped>\n",
       "    .dataframe tbody tr th:only-of-type {\n",
       "        vertical-align: middle;\n",
       "    }\n",
       "\n",
       "    .dataframe tbody tr th {\n",
       "        vertical-align: top;\n",
       "    }\n",
       "\n",
       "    .dataframe thead th {\n",
       "        text-align: right;\n",
       "    }\n",
       "</style>\n",
       "<table border=\"1\" class=\"dataframe\">\n",
       "  <thead>\n",
       "    <tr style=\"text-align: right;\">\n",
       "      <th></th>\n",
       "      <th>created</th>\n",
       "    </tr>\n",
       "  </thead>\n",
       "  <tbody>\n",
       "    <tr>\n",
       "      <th>0</th>\n",
       "      <td>07/12/2016 00:56</td>\n",
       "    </tr>\n",
       "    <tr>\n",
       "      <th>1</th>\n",
       "      <td>07/11/2016 22:18</td>\n",
       "    </tr>\n",
       "    <tr>\n",
       "      <th>2</th>\n",
       "      <td>07/11/2016 21:40</td>\n",
       "    </tr>\n",
       "    <tr>\n",
       "      <th>3</th>\n",
       "      <td>07/11/2016 19:51</td>\n",
       "    </tr>\n",
       "    <tr>\n",
       "      <th>4</th>\n",
       "      <td>07/11/2016 11:57</td>\n",
       "    </tr>\n",
       "  </tbody>\n",
       "</table>\n",
       "</div>"
      ],
      "text/plain": [
       "            created\n",
       "0  07/12/2016 00:56\n",
       "1  07/11/2016 22:18\n",
       "2  07/11/2016 21:40\n",
       "3  07/11/2016 19:51\n",
       "4  07/11/2016 11:57"
      ]
     },
     "execution_count": 8,
     "metadata": {},
     "output_type": "execute_result"
    }
   ],
   "source": [
    "data[['created']].head()"
   ]
  },
  {
   "cell_type": "code",
   "execution_count": 9,
   "metadata": {},
   "outputs": [
    {
     "data": {
      "text/html": [
       "<div>\n",
       "<style scoped>\n",
       "    .dataframe tbody tr th:only-of-type {\n",
       "        vertical-align: middle;\n",
       "    }\n",
       "\n",
       "    .dataframe tbody tr th {\n",
       "        vertical-align: top;\n",
       "    }\n",
       "\n",
       "    .dataframe thead th {\n",
       "        text-align: right;\n",
       "    }\n",
       "</style>\n",
       "<table border=\"1\" class=\"dataframe\">\n",
       "  <thead>\n",
       "    <tr style=\"text-align: right;\">\n",
       "      <th></th>\n",
       "      <th>day_week</th>\n",
       "    </tr>\n",
       "  </thead>\n",
       "  <tbody>\n",
       "    <tr>\n",
       "      <th>0</th>\n",
       "      <td>1</td>\n",
       "    </tr>\n",
       "    <tr>\n",
       "      <th>1</th>\n",
       "      <td>0</td>\n",
       "    </tr>\n",
       "    <tr>\n",
       "      <th>2</th>\n",
       "      <td>0</td>\n",
       "    </tr>\n",
       "    <tr>\n",
       "      <th>3</th>\n",
       "      <td>0</td>\n",
       "    </tr>\n",
       "    <tr>\n",
       "      <th>4</th>\n",
       "      <td>0</td>\n",
       "    </tr>\n",
       "  </tbody>\n",
       "</table>\n",
       "</div>"
      ],
      "text/plain": [
       "   day_week\n",
       "0         1\n",
       "1         0\n",
       "2         0\n",
       "3         0\n",
       "4         0"
      ]
     },
     "execution_count": 9,
     "metadata": {},
     "output_type": "execute_result"
    }
   ],
   "source": [
    "import datetime\n",
    "\n",
    "def day_of_week(text):\n",
    "    date = re.findall(r'\\d+\\S\\d+\\S\\d+', text)\n",
    "    month, day, year = (int(x) for x in date[0].split('/'))    \n",
    "    ans = datetime.date(year, month, day)\n",
    "    day_week = ans.weekday()\n",
    "    #day_week = ans.strftime(\"%A\")\n",
    "    return day_week\n",
    "\n",
    "data['day_week'] = data['created'].apply(lambda x: day_of_week(x))\n",
    "\n",
    "data[['day_week']].head()"
   ]
  },
  {
   "cell_type": "markdown",
   "metadata": {},
   "source": [
    "Time Of The Day"
   ]
  },
  {
   "cell_type": "code",
   "execution_count": 10,
   "metadata": {},
   "outputs": [
    {
     "data": {
      "text/html": [
       "<div>\n",
       "<style scoped>\n",
       "    .dataframe tbody tr th:only-of-type {\n",
       "        vertical-align: middle;\n",
       "    }\n",
       "\n",
       "    .dataframe tbody tr th {\n",
       "        vertical-align: top;\n",
       "    }\n",
       "\n",
       "    .dataframe thead th {\n",
       "        text-align: right;\n",
       "    }\n",
       "</style>\n",
       "<table border=\"1\" class=\"dataframe\">\n",
       "  <thead>\n",
       "    <tr style=\"text-align: right;\">\n",
       "      <th></th>\n",
       "      <th>time</th>\n",
       "    </tr>\n",
       "  </thead>\n",
       "  <tbody>\n",
       "    <tr>\n",
       "      <th>0</th>\n",
       "      <td>100</td>\n",
       "    </tr>\n",
       "    <tr>\n",
       "      <th>1</th>\n",
       "      <td>2220</td>\n",
       "    </tr>\n",
       "    <tr>\n",
       "      <th>2</th>\n",
       "      <td>2140</td>\n",
       "    </tr>\n",
       "    <tr>\n",
       "      <th>3</th>\n",
       "      <td>1950</td>\n",
       "    </tr>\n",
       "    <tr>\n",
       "      <th>4</th>\n",
       "      <td>1200</td>\n",
       "    </tr>\n",
       "  </tbody>\n",
       "</table>\n",
       "</div>"
      ],
      "text/plain": [
       "   time\n",
       "0   100\n",
       "1  2220\n",
       "2  2140\n",
       "3  1950\n",
       "4  1200"
      ]
     },
     "execution_count": 10,
     "metadata": {},
     "output_type": "execute_result"
    }
   ],
   "source": [
    "def get_time(text): \n",
    "    time = re.findall('..:+..', text)\n",
    "    hour, minute = (int(x) for x in time[0].split(':')) \n",
    "    minute = round(minute, -1)\n",
    "    if minute ==60:\n",
    "        minute = 0\n",
    "        hour = hour +1\n",
    "    if hour >24:\n",
    "        hour = hour % 24\n",
    "    round_time = hour*100 + minute \n",
    "    return round_time\n",
    "\n",
    "data['time'] = data['created'].apply(lambda x: get_time(x))\n",
    "\n",
    "data[['time']].head()"
   ]
  },
  {
   "cell_type": "markdown",
   "metadata": {},
   "source": [
    "### Evaluation"
   ]
  },
  {
   "cell_type": "code",
   "execution_count": 11,
   "metadata": {},
   "outputs": [],
   "source": [
    "from matplotlib import pyplot\n",
    "import numpy as np\n",
    "%matplotlib inline"
   ]
  },
  {
   "cell_type": "code",
   "execution_count": 12,
   "metadata": {},
   "outputs": [
    {
     "data": {
      "image/png": "[encoded data removed]",
      "text/plain": [
       "<Figure size 432x288 with 1 Axes>"
      ]
     },
     "metadata": {},
     "output_type": "display_data"
    }
   ],
   "source": [
    "bins = np.linspace(0, 250, 50)\n",
    "\n",
    "pyplot.hist(data[data['label'] == -1]['text_len'], bins, alpha = 0.5, density = True, label ='Not Trump')\n",
    "pyplot.hist(data[data['label'] == 1]['text_len'], bins, alpha = 0.5, density = True, label ='Trump')\n",
    "pyplot.legend(loc = 'upper left')\n",
    "pyplot.title('Text Lenght Comparison')\n",
    "pyplot.show()"
   ]
  },
  {
   "cell_type": "code",
   "execution_count": 14,
   "metadata": {},
   "outputs": [
    {
     "data": {
      "image/png": "[encoded data removed]",
      "text/plain": [
       "<Figure size 432x288 with 1 Axes>"
      ]
     },
     "metadata": {},
     "output_type": "display_data"
    }
   ],
   "source": [
    "bins = np.linspace(0, 50, 50)\n",
    "\n",
    "pyplot.hist(data[data['label'] == -1]['punct%'], bins, alpha = 0.5, density = True, label ='Not Trump')\n",
    "pyplot.hist(data[data['label'] == 1]['punct%'], bins, alpha = 0.5, density = True, label ='Trump')\n",
    "pyplot.legend(loc = 'upper right')\n",
    "pyplot.title('Punctuation % Comparison')\n",
    "pyplot.show()"
   ]
  },
  {
   "cell_type": "code",
   "execution_count": 15,
   "metadata": {},
   "outputs": [
    {
     "data": {
      "image/png": "[encoded data removed]",
      "text/plain": [
       "<Figure size 432x288 with 1 Axes>"
      ]
     },
     "metadata": {},
     "output_type": "display_data"
    }
   ],
   "source": [
    "bins = np.linspace(2000, 100000, 50)\n",
    "\n",
    "pyplot.hist(data[data['label'] == -1]['favoriteCount'], bins, alpha = 0.5, density = True, label ='Not Trump')\n",
    "pyplot.hist(data[data['label'] == 1]['favoriteCount'], bins, alpha = 0.5, density = True, label ='Trump')\n",
    "pyplot.legend(loc = 'upper right')\n",
    "pyplot.title('Favorited Count Comparison')\n",
    "pyplot.show()"
   ]
  },
  {
   "cell_type": "code",
   "execution_count": 16,
   "metadata": {},
   "outputs": [
    {
     "data": {
      "image/png": "[encoded data removed]",
      "text/plain": [
       "<Figure size 432x288 with 1 Axes>"
      ]
     },
     "metadata": {},
     "output_type": "display_data"
    }
   ],
   "source": [
    "bins = np.linspace(500, 40000, 50)\n",
    "\n",
    "pyplot.hist(data[data['label'] == -1]['retweetCount'], bins, alpha = 0.5, density = True, label ='Not Trump')\n",
    "pyplot.hist(data[data['label'] == 1]['retweetCount'], bins, alpha = 0.5, density = True, label ='Trump')\n",
    "pyplot.legend(loc = 'upper right')\n",
    "pyplot.title('Retweeted Count Comparison')\n",
    "pyplot.show()"
   ]
  },
  {
   "cell_type": "code",
   "execution_count": 17,
   "metadata": {},
   "outputs": [
    {
     "data": {
      "image/png": "[encoded data removed]",
      "text/plain": [
       "<Figure size 432x288 with 1 Axes>"
      ]
     },
     "metadata": {},
     "output_type": "display_data"
    }
   ],
   "source": [
    "bins = np.linspace(0, 6, 7)\n",
    "\n",
    "pyplot.hist(data[data['label'] == -1]['day_week'], bins, alpha = 0.5, density = True, label ='Not Trump')\n",
    "pyplot.hist(data[data['label'] == 1]['day_week'], bins, alpha = 0.5, density = True, label ='Trump')\n",
    "pyplot.legend(loc = 'upper left')\n",
    "pyplot.title('Day Week Comparison')\n",
    "pyplot.show()"
   ]
  },
  {
   "cell_type": "code",
   "execution_count": 18,
   "metadata": {},
   "outputs": [
    {
     "data": {
      "image/png": "[encoded data removed]",
      "text/plain": [
       "<Figure size 432x288 with 1 Axes>"
      ]
     },
     "metadata": {},
     "output_type": "display_data"
    }
   ],
   "source": [
    "bins = np.linspace(0, 2400, 50)\n",
    "\n",
    "pyplot.hist(data[data['label'] == -1]['time'], bins, alpha = 0.5, density = True, label ='Not Trump')\n",
    "pyplot.hist(data[data['label'] == 1]['time'], bins, alpha = 0.5, density = True, label ='Trump')\n",
    "pyplot.legend(loc = 'upper left')\n",
    "pyplot.title('Time of the day Comparison')\n",
    "pyplot.show()"
   ]
  },
  {
   "cell_type": "code",
   "execution_count": null,
   "metadata": {},
   "outputs": [],
   "source": []
  }
 ],
 "metadata": {
  "kernelspec": {
   "display_name": "Python 3",
   "language": "python",
   "name": "python3"
  },
  "language_info": {
   "codemirror_mode": {
    "name": "ipython",
    "version": 3
   },
   "file_extension": ".py",
   "mimetype": "text/x-python",
   "name": "python",
   "nbconvert_exporter": "python",
   "pygments_lexer": "ipython3",
   "version": "3.6.5"
  }
 },
 "nbformat": 4,
 "nbformat_minor": 2
}
