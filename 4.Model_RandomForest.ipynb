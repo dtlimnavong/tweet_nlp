{
 "cells": [
  {
   "cell_type": "markdown",
   "metadata": {},
   "source": [
    "### Read and Clean Data"
   ]
  },
  {
   "cell_type": "code",
   "execution_count": 2,
   "metadata": {},
   "outputs": [],
   "source": [
    "import pandas as pd\n",
    "import re\n",
    "import string\n",
    "import nltk\n",
    "import datetime\n",
    "from sklearn.feature_extraction.text import TfidfVectorizer\n",
    "from sklearn.feature_extraction.text import CountVectorizer\n",
    "\n",
    "pd.set_option('display.max_colwidth', 100)\n",
    "\n",
    "stopwords = nltk.corpus.stopwords.words('english')\n",
    "wn = nltk.WordNetLemmatizer()\n",
    "ps = nltk.PorterStemmer()\n",
    "\n",
    "data = pd.read_csv(\"train.csv\")\n",
    "\n",
    "def clean_text(text):\n",
    "    text = \"\".join([word.lower() for word in text if word not in string.punctuation])\n",
    "    text = re.sub('http.*', 'http', text)\n",
    "    tokens = re.split('\\W+', text)\n",
    "    text = [wn.lemmatize(word) for word in tokens if word not in stopwords]\n",
    "    #text = [ps.stem(word) for word in tokens if word not in stopwords]\n",
    "    return text\n",
    "\n",
    "def count_punct(text):\n",
    "    count = sum([1 for char in text if char in string.punctuation])\n",
    "    return round(count/(len(text) - text.count(\" \")), 3)*100\n",
    "\n",
    "def day_of_week(text):\n",
    "    date = re.findall(r'\\d+\\S\\d+\\S\\d+', text)\n",
    "    month, day, year = (int(x) for x in date[0].split('/'))    \n",
    "    ans = datetime.date(year, month, day)\n",
    "    day_week = ans.weekday()\n",
    "    return day_week\n",
    "\n",
    "def get_time(text): \n",
    "    time = re.findall('..:+..', text)\n",
    "    hour, minute = (int(x) for x in time[0].split(':')) \n",
    "    minute = round(minute, -1)\n",
    "    if minute ==60:\n",
    "        minute = 0\n",
    "        hour = hour +1\n",
    "    if hour >24:\n",
    "        hour = hour % 24\n",
    "    round_time = hour*100 + minute \n",
    "    return round_time\n",
    "\n",
    "\n",
    "data['text_nolink'] = data['text'].apply(lambda x: re.sub('http.*', 'http', x))\n",
    "data['text_len'] = data['text_nolink'].apply(lambda x: len(x) - x.count(\" \"))\n",
    "data['punct%'] = data['text_nolink'].apply(lambda x: count_punct(x))\n",
    "data['punct%_trans'] = (data['punct%'])**(1/2)\n",
    "data['time'] = data['created'].apply(lambda x: get_time(x))\n",
    "data['day_week'] = data['created'].apply(lambda x: day_of_week(x))\n",
    "\n",
    "tfidf_vect = TfidfVectorizer(analyzer=clean_text)\n",
    "X_tfidf = tfidf_vect.fit_transform(data['text'])\n",
    "\n",
    "ngram_vect = CountVectorizer(ngram_range=(2,2))\n",
    "X_counts = ngram_vect.fit_transform(data['text'])\n",
    "\n",
    "#X_features = pd.concat([data['text_len'], data['punct%'],data['day_week'], data['time'], data['favoriteCount'],\n",
    "#                        data['retweetCount'],pd.DataFrame(X_tfidf.toarray())], axis=1)\n",
    "\n",
    "X_features_zero = pd.concat([data['text_len'], data['punct%'],data['day_week'], data['time'], data['favoriteCount'],\n",
    "                        data['retweetCount']], axis=1)\n",
    "X_features = pd.concat([data['text_len'], data['punct%'],data['day_week'], data['time'], data['favoriteCount'],\n",
    "                        data['retweetCount'],pd.DataFrame(X_counts.toarray())], axis=1)"
   ]
  },
  {
   "cell_type": "markdown",
   "metadata": {},
   "source": [
    "## Correlation Matrix"
   ]
  },
  {
   "cell_type": "code",
   "execution_count": 5,
   "metadata": {},
   "outputs": [
    {
     "data": {
      "text/html": [
       "<style  type=\"text/css\" >\n",
       "    #T_a822c866_38a1_11e9_ac4f_06005488e101row0_col0 {\n",
       "            background-color:  #023858;\n",
       "        }    #T_a822c866_38a1_11e9_ac4f_06005488e101row0_col1 {\n",
       "            background-color:  #e7e3f0;\n",
       "        }    #T_a822c866_38a1_11e9_ac4f_06005488e101row0_col2 {\n",
       "            background-color:  #f1ebf4;\n",
       "        }    #T_a822c866_38a1_11e9_ac4f_06005488e101row0_col3 {\n",
       "            background-color:  #fdf5fa;\n",
       "        }    #T_a822c866_38a1_11e9_ac4f_06005488e101row0_col4 {\n",
       "            background-color:  #c4cbe3;\n",
       "        }    #T_a822c866_38a1_11e9_ac4f_06005488e101row0_col5 {\n",
       "            background-color:  #dbdaeb;\n",
       "        }    #T_a822c866_38a1_11e9_ac4f_06005488e101row1_col0 {\n",
       "            background-color:  #faf3f9;\n",
       "        }    #T_a822c866_38a1_11e9_ac4f_06005488e101row1_col1 {\n",
       "            background-color:  #023858;\n",
       "        }    #T_a822c866_38a1_11e9_ac4f_06005488e101row1_col2 {\n",
       "            background-color:  #fdf5fa;\n",
       "        }    #T_a822c866_38a1_11e9_ac4f_06005488e101row1_col3 {\n",
       "            background-color:  #fff7fb;\n",
       "        }    #T_a822c866_38a1_11e9_ac4f_06005488e101row1_col4 {\n",
       "            background-color:  #fff7fb;\n",
       "        }    #T_a822c866_38a1_11e9_ac4f_06005488e101row1_col5 {\n",
       "            background-color:  #fff7fb;\n",
       "        }    #T_a822c866_38a1_11e9_ac4f_06005488e101row2_col0 {\n",
       "            background-color:  #e7e3f0;\n",
       "        }    #T_a822c866_38a1_11e9_ac4f_06005488e101row2_col1 {\n",
       "            background-color:  #e0dded;\n",
       "        }    #T_a822c866_38a1_11e9_ac4f_06005488e101row2_col2 {\n",
       "            background-color:  #023858;\n",
       "        }    #T_a822c866_38a1_11e9_ac4f_06005488e101row2_col3 {\n",
       "            background-color:  #f5eff6;\n",
       "        }    #T_a822c866_38a1_11e9_ac4f_06005488e101row2_col4 {\n",
       "            background-color:  #d5d5e8;\n",
       "        }    #T_a822c866_38a1_11e9_ac4f_06005488e101row2_col5 {\n",
       "            background-color:  #e0deed;\n",
       "        }    #T_a822c866_38a1_11e9_ac4f_06005488e101row3_col0 {\n",
       "            background-color:  #fff7fb;\n",
       "        }    #T_a822c866_38a1_11e9_ac4f_06005488e101row3_col1 {\n",
       "            background-color:  #efe9f3;\n",
       "        }    #T_a822c866_38a1_11e9_ac4f_06005488e101row3_col2 {\n",
       "            background-color:  #fff7fb;\n",
       "        }    #T_a822c866_38a1_11e9_ac4f_06005488e101row3_col3 {\n",
       "            background-color:  #023858;\n",
       "        }    #T_a822c866_38a1_11e9_ac4f_06005488e101row3_col4 {\n",
       "            background-color:  #d3d4e7;\n",
       "        }    #T_a822c866_38a1_11e9_ac4f_06005488e101row3_col5 {\n",
       "            background-color:  #dad9ea;\n",
       "        }    #T_a822c866_38a1_11e9_ac4f_06005488e101row4_col0 {\n",
       "            background-color:  #dedcec;\n",
       "        }    #T_a822c866_38a1_11e9_ac4f_06005488e101row4_col1 {\n",
       "            background-color:  #fff7fb;\n",
       "        }    #T_a822c866_38a1_11e9_ac4f_06005488e101row4_col2 {\n",
       "            background-color:  #f4edf6;\n",
       "        }    #T_a822c866_38a1_11e9_ac4f_06005488e101row4_col3 {\n",
       "            background-color:  #e8e4f0;\n",
       "        }    #T_a822c866_38a1_11e9_ac4f_06005488e101row4_col4 {\n",
       "            background-color:  #023858;\n",
       "        }    #T_a822c866_38a1_11e9_ac4f_06005488e101row4_col5 {\n",
       "            background-color:  #034267;\n",
       "        }    #T_a822c866_38a1_11e9_ac4f_06005488e101row5_col0 {\n",
       "            background-color:  #e9e5f1;\n",
       "        }    #T_a822c866_38a1_11e9_ac4f_06005488e101row5_col1 {\n",
       "            background-color:  #f8f1f8;\n",
       "        }    #T_a822c866_38a1_11e9_ac4f_06005488e101row5_col2 {\n",
       "            background-color:  #f6eff7;\n",
       "        }    #T_a822c866_38a1_11e9_ac4f_06005488e101row5_col3 {\n",
       "            background-color:  #e7e3f0;\n",
       "        }    #T_a822c866_38a1_11e9_ac4f_06005488e101row5_col4 {\n",
       "            background-color:  #034267;\n",
       "        }    #T_a822c866_38a1_11e9_ac4f_06005488e101row5_col5 {\n",
       "            background-color:  #023858;\n",
       "        }</style>  \n",
       "<table id=\"T_a822c866_38a1_11e9_ac4f_06005488e101\" > \n",
       "<thead>    <tr> \n",
       "        <th class=\"blank level0\" ></th> \n",
       "        <th class=\"col_heading level0 col0\" >text_len</th> \n",
       "        <th class=\"col_heading level0 col1\" >punct%</th> \n",
       "        <th class=\"col_heading level0 col2\" >day_week</th> \n",
       "        <th class=\"col_heading level0 col3\" >time</th> \n",
       "        <th class=\"col_heading level0 col4\" >favoriteCount</th> \n",
       "        <th class=\"col_heading level0 col5\" >retweetCount</th> \n",
       "    </tr></thead> \n",
       "<tbody>    <tr> \n",
       "        <th id=\"T_a822c866_38a1_11e9_ac4f_06005488e101level0_row0\" class=\"row_heading level0 row0\" >text_len</th> \n",
       "        <td id=\"T_a822c866_38a1_11e9_ac4f_06005488e101row0_col0\" class=\"data row0 col0\" >1</td> \n",
       "        <td id=\"T_a822c866_38a1_11e9_ac4f_06005488e101row0_col1\" class=\"data row0 col1\" >-0.054</td> \n",
       "        <td id=\"T_a822c866_38a1_11e9_ac4f_06005488e101row0_col2\" class=\"data row0 col2\" >0.066</td> \n",
       "        <td id=\"T_a822c866_38a1_11e9_ac4f_06005488e101row0_col3\" class=\"data row0 col3\" >-0.092</td> \n",
       "        <td id=\"T_a822c866_38a1_11e9_ac4f_06005488e101row0_col4\" class=\"data row0 col4\" >0.11</td> \n",
       "        <td id=\"T_a822c866_38a1_11e9_ac4f_06005488e101row0_col5\" class=\"data row0 col5\" >0.059</td> \n",
       "    </tr>    <tr> \n",
       "        <th id=\"T_a822c866_38a1_11e9_ac4f_06005488e101level0_row1\" class=\"row_heading level0 row1\" >punct%</th> \n",
       "        <td id=\"T_a822c866_38a1_11e9_ac4f_06005488e101row1_col0\" class=\"data row1 col0\" >-0.054</td> \n",
       "        <td id=\"T_a822c866_38a1_11e9_ac4f_06005488e101row1_col1\" class=\"data row1 col1\" >1</td> \n",
       "        <td id=\"T_a822c866_38a1_11e9_ac4f_06005488e101row1_col2\" class=\"data row1 col2\" >-0.014</td> \n",
       "        <td id=\"T_a822c866_38a1_11e9_ac4f_06005488e101row1_col3\" class=\"data row1 col3\" >-0.11</td> \n",
       "        <td id=\"T_a822c866_38a1_11e9_ac4f_06005488e101row1_col4\" class=\"data row1 col4\" >-0.24</td> \n",
       "        <td id=\"T_a822c866_38a1_11e9_ac4f_06005488e101row1_col5\" class=\"data row1 col5\" >-0.18</td> \n",
       "    </tr>    <tr> \n",
       "        <th id=\"T_a822c866_38a1_11e9_ac4f_06005488e101level0_row2\" class=\"row_heading level0 row2\" >day_week</th> \n",
       "        <td id=\"T_a822c866_38a1_11e9_ac4f_06005488e101row2_col0\" class=\"data row2 col0\" >0.066</td> \n",
       "        <td id=\"T_a822c866_38a1_11e9_ac4f_06005488e101row2_col1\" class=\"data row2 col1\" >-0.014</td> \n",
       "        <td id=\"T_a822c866_38a1_11e9_ac4f_06005488e101row2_col2\" class=\"data row2 col2\" >1</td> \n",
       "        <td id=\"T_a822c866_38a1_11e9_ac4f_06005488e101row2_col3\" class=\"data row2 col3\" >-0.033</td> \n",
       "        <td id=\"T_a822c866_38a1_11e9_ac4f_06005488e101row2_col4\" class=\"data row2 col4\" >0.045</td> \n",
       "        <td id=\"T_a822c866_38a1_11e9_ac4f_06005488e101row2_col5\" class=\"data row2 col5\" >0.03</td> \n",
       "    </tr>    <tr> \n",
       "        <th id=\"T_a822c866_38a1_11e9_ac4f_06005488e101level0_row3\" class=\"row_heading level0 row3\" >time</th> \n",
       "        <td id=\"T_a822c866_38a1_11e9_ac4f_06005488e101row3_col0\" class=\"data row3 col0\" >-0.092</td> \n",
       "        <td id=\"T_a822c866_38a1_11e9_ac4f_06005488e101row3_col1\" class=\"data row3 col1\" >-0.11</td> \n",
       "        <td id=\"T_a822c866_38a1_11e9_ac4f_06005488e101row3_col2\" class=\"data row3 col2\" >-0.033</td> \n",
       "        <td id=\"T_a822c866_38a1_11e9_ac4f_06005488e101row3_col3\" class=\"data row3 col3\" >1</td> \n",
       "        <td id=\"T_a822c866_38a1_11e9_ac4f_06005488e101row3_col4\" class=\"data row3 col4\" >0.052</td> \n",
       "        <td id=\"T_a822c866_38a1_11e9_ac4f_06005488e101row3_col5\" class=\"data row3 col5\" >0.061</td> \n",
       "    </tr>    <tr> \n",
       "        <th id=\"T_a822c866_38a1_11e9_ac4f_06005488e101level0_row4\" class=\"row_heading level0 row4\" >favoriteCount</th> \n",
       "        <td id=\"T_a822c866_38a1_11e9_ac4f_06005488e101row4_col0\" class=\"data row4 col0\" >0.11</td> \n",
       "        <td id=\"T_a822c866_38a1_11e9_ac4f_06005488e101row4_col1\" class=\"data row4 col1\" >-0.24</td> \n",
       "        <td id=\"T_a822c866_38a1_11e9_ac4f_06005488e101row4_col2\" class=\"data row4 col2\" >0.045</td> \n",
       "        <td id=\"T_a822c866_38a1_11e9_ac4f_06005488e101row4_col3\" class=\"data row4 col3\" >0.052</td> \n",
       "        <td id=\"T_a822c866_38a1_11e9_ac4f_06005488e101row4_col4\" class=\"data row4 col4\" >1</td> \n",
       "        <td id=\"T_a822c866_38a1_11e9_ac4f_06005488e101row4_col5\" class=\"data row4 col5\" >0.96</td> \n",
       "    </tr>    <tr> \n",
       "        <th id=\"T_a822c866_38a1_11e9_ac4f_06005488e101level0_row5\" class=\"row_heading level0 row5\" >retweetCount</th> \n",
       "        <td id=\"T_a822c866_38a1_11e9_ac4f_06005488e101row5_col0\" class=\"data row5 col0\" >0.059</td> \n",
       "        <td id=\"T_a822c866_38a1_11e9_ac4f_06005488e101row5_col1\" class=\"data row5 col1\" >-0.18</td> \n",
       "        <td id=\"T_a822c866_38a1_11e9_ac4f_06005488e101row5_col2\" class=\"data row5 col2\" >0.03</td> \n",
       "        <td id=\"T_a822c866_38a1_11e9_ac4f_06005488e101row5_col3\" class=\"data row5 col3\" >0.061</td> \n",
       "        <td id=\"T_a822c866_38a1_11e9_ac4f_06005488e101row5_col4\" class=\"data row5 col4\" >0.96</td> \n",
       "        <td id=\"T_a822c866_38a1_11e9_ac4f_06005488e101row5_col5\" class=\"data row5 col5\" >1</td> \n",
       "    </tr></tbody> \n",
       "</table> "
      ],
      "text/plain": [
       "<pandas.io.formats.style.Styler at 0x1a379d8eb8>"
      ]
     },
     "execution_count": 5,
     "metadata": {},
     "output_type": "execute_result"
    }
   ],
   "source": [
    "corr = X_features_zero.corr()\n",
    "corr.style.background_gradient()\n",
    "corr.style.background_gradient().set_precision(2)"
   ]
  },
  {
   "cell_type": "code",
   "execution_count": 6,
   "metadata": {},
   "outputs": [],
   "source": [
    "X_features = pd.concat([data['text_len'], data['punct%'],data['day_week'], data['time'], data['favoriteCount'],pd.DataFrame(X_counts.toarray())], axis=1)"
   ]
  },
  {
   "cell_type": "markdown",
   "metadata": {},
   "source": [
    "### Train-test evaluation "
   ]
  },
  {
   "cell_type": "code",
   "execution_count": 7,
   "metadata": {},
   "outputs": [],
   "source": [
    "from sklearn.metrics import precision_recall_fscore_support as score\n",
    "from sklearn.model_selection import train_test_split"
   ]
  },
  {
   "cell_type": "code",
   "execution_count": 8,
   "metadata": {},
   "outputs": [],
   "source": [
    "X_train, X_test, y_train, y_test = train_test_split(X_features, data['label'], test_size=0.2)"
   ]
  },
  {
   "cell_type": "markdown",
   "metadata": {},
   "source": [
    "### Vectorize test"
   ]
  },
  {
   "cell_type": "code",
   "execution_count": 9,
   "metadata": {},
   "outputs": [],
   "source": [
    "from sklearn.ensemble import RandomForestClassifier\n",
    "n=500\n",
    "\n",
    "rf = RandomForestClassifier(n_estimators=n, n_jobs=-1)\n",
    "rf_model = rf.fit(X_train, y_train)"
   ]
  },
  {
   "cell_type": "code",
   "execution_count": 10,
   "metadata": {},
   "outputs": [],
   "source": [
    "y_pred = rf_model.predict(X_test)\n",
    "precision, recall, fscore, support = score(y_test, y_pred, pos_label=1, average='binary')"
   ]
  },
  {
   "cell_type": "code",
   "execution_count": 11,
   "metadata": {},
   "outputs": [
    {
     "name": "stdout",
     "output_type": "stream",
     "text": [
      "Precision: 0.769 / Recall: 0.974 / Accuracy: 0.83\n"
     ]
    }
   ],
   "source": [
    "print('Precision: {} / Recall: {} / Accuracy: {}'.format(round(precision, 3),\n",
    "                                                        round(recall, 3),\n",
    "                                                        round((y_pred==y_test).sum() / len(y_pred),3)))"
   ]
  },
  {
   "cell_type": "code",
   "execution_count": 12,
   "metadata": {},
   "outputs": [
    {
     "data": {
      "text/plain": [
       "[(0.09559372023513757, 4999),\n",
       " (0.07035217202107376, 'text_len'),\n",
       " (0.043529265165680384, 'time'),\n",
       " (0.03259815609686185, 9659),\n",
       " (0.031227706041024452, 10801),\n",
       " (0.014573373255956278, 'punct%'),\n",
       " (0.011716622584964372, 'favoriteCount'),\n",
       " (0.010663088924890107, 6280),\n",
       " (0.008226766797264626, 'day_week'),\n",
       " (0.005838771759109928, 6275)]"
      ]
     },
     "execution_count": 12,
     "metadata": {},
     "output_type": "execute_result"
    }
   ],
   "source": [
    "sorted(zip(rf_model.feature_importances_, X_train.columns), reverse=True)[0:10]"
   ]
  },
  {
   "cell_type": "markdown",
   "metadata": {},
   "source": [
    "### Tuning Parameters"
   ]
  },
  {
   "cell_type": "code",
   "execution_count": 9,
   "metadata": {},
   "outputs": [],
   "source": [
    "from sklearn.model_selection import RandomizedSearchCV\n",
    "from time import time"
   ]
  },
  {
   "cell_type": "code",
   "execution_count": null,
   "metadata": {},
   "outputs": [],
   "source": [
    "rf = RandomForestClassifier()\n",
    "\n",
    "param_dist = {\"n_estimators\": [40,None],\n",
    "              \"max_depth\": [3, None]}\n",
    "n_iter_search = 4\n",
    "\n",
    "clf = RandomizedSearchCV(rf, param_distributions = param_dist,n_iter=n_iter_search, cv=5, n_jobs=-1)\n",
    "cv_fit = clf.fit(X_features, data['label'])\n",
    "pd.DataFrame(cv_fit.cv_results_).sort_values('mean_test_score', ascending=False)[0:5]"
   ]
  },
  {
   "cell_type": "code",
   "execution_count": null,
   "metadata": {},
   "outputs": [],
   "source": []
  }
 ],
 "metadata": {
  "kernelspec": {
   "display_name": "Python 3",
   "language": "python",
   "name": "python3"
  }
 },
 "nbformat": 4,
 "nbformat_minor": 2
}
