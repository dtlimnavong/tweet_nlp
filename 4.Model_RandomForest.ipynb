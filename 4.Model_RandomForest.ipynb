{
 "cells": [
  {
   "cell_type": "markdown",
   "metadata": {},
   "source": [
    "### Read and Clean Data"
   ]
  },
  {
   "cell_type": "code",
   "execution_count": 6,
   "metadata": {},
   "outputs": [],
   "source": [
    "import pandas as pd\n",
    "import numpy as np\n",
    "import re\n",
    "import string\n",
    "import nltk\n",
    "import datetime\n",
    "from sklearn.feature_extraction.text import TfidfVectorizer\n",
    "from sklearn.feature_extraction.text import CountVectorizer\n",
    "\n",
    "pd.set_option('display.max_colwidth', 100)\n",
    "\n",
    "stopwords = nltk.corpus.stopwords.words('english')\n",
    "wn = nltk.WordNetLemmatizer()\n",
    "ps = nltk.PorterStemmer()\n",
    "\n",
    "data = pd.read_csv(\"train.csv\")\n",
    "\n",
    "def clean_text(text):\n",
    "    text = \"\".join([word.lower() for word in text if word not in string.punctuation])\n",
    "    text = re.sub('http.*', 'http', text)\n",
    "    tokens = re.split('\\W+', text)\n",
    "    text = [wn.lemmatize(word) for word in tokens if word not in stopwords]\n",
    "    #text = [ps.stem(word) for word in tokens if word not in stopwords]\n",
    "    return text\n",
    "\n",
    "def count_punct(text):\n",
    "    count = sum([1 for char in text if char in string.punctuation])\n",
    "    return round(count/(len(text) - text.count(\" \")), 3)*100\n",
    "\n",
    "def day_of_week(text):\n",
    "    date = re.findall(r'\\d+\\S\\d+\\S\\d+', text)\n",
    "    month, day, year = (int(x) for x in date[0].split('/'))    \n",
    "    ans = datetime.date(year, month, day)\n",
    "    day_week = ans.weekday()\n",
    "    return day_week\n",
    "\n",
    "def get_time(text): \n",
    "    time = re.findall('..:+..', text)\n",
    "    hour, minute = (int(x) for x in time[0].split(':')) \n",
    "    minute = round(minute, -1)\n",
    "    if minute ==60:\n",
    "        minute = 0\n",
    "        hour = hour +1\n",
    "    if hour >24:\n",
    "        hour = hour % 24\n",
    "    round_time = hour*100 + minute \n",
    "    return round_time\n",
    "\n",
    "\n",
    "data['text_nolink'] = data['text'].apply(lambda x: re.sub('http.*', 'http', x))\n",
    "data['text_len'] = data['text_nolink'].apply(lambda x: len(x) - x.count(\" \"))\n",
    "data['punct%'] = data['text_nolink'].apply(lambda x: count_punct(x))\n",
    "data['punct%_trans'] = (data['punct%'])**(1/2)\n",
    "data['time'] = data['created'].apply(lambda x: get_time(x))\n",
    "data['day_week'] = data['created'].apply(lambda x: day_of_week(x))\n",
    "\n",
    "tfidf_vect = TfidfVectorizer(analyzer=clean_text)\n",
    "X_tfidf = tfidf_vect.fit_transform(data['text'])\n",
    "\n",
    "ngram_vect = CountVectorizer(ngram_range=(2,2))\n",
    "X_counts = ngram_vect.fit_transform(data['text'])\n",
    "\n",
    "#X_features = pd.concat([data['text_len'], data['punct%'],data['day_week'], data['time'], data['favoriteCount'],\n",
    "#                        data['retweetCount'],pd.DataFrame(X_tfidf.toarray())], axis=1)\n",
    "\n",
    "X_features_zero = pd.concat([data['text_len'], data['punct%'],data['day_week'], data['time'], data['favoriteCount'],\n",
    "                        data['retweetCount']], axis=1)\n",
    "X_features = pd.concat([data['text_len'], data['punct%'],data['day_week'], data['time'], data['favoriteCount'],\n",
    "                        data['retweetCount'],pd.DataFrame(X_counts.toarray())], axis=1)"
   ]
  },
  {
   "cell_type": "markdown",
   "metadata": {},
   "source": [
    "## Correlation Matrix"
   ]
  },
  {
   "cell_type": "code",
   "execution_count": 3,
   "metadata": {},
   "outputs": [
    {
     "data": {
      "text/html": [
       "<style  type=\"text/css\" >\n",
       "    #T_df93d9d2_3de9_11e9_ac78_06005488e101row0_col0 {\n",
       "            background-color:  #023858;\n",
       "        }    #T_df93d9d2_3de9_11e9_ac78_06005488e101row0_col1 {\n",
       "            background-color:  #e7e3f0;\n",
       "        }    #T_df93d9d2_3de9_11e9_ac78_06005488e101row0_col2 {\n",
       "            background-color:  #f1ebf4;\n",
       "        }    #T_df93d9d2_3de9_11e9_ac78_06005488e101row0_col3 {\n",
       "            background-color:  #fdf5fa;\n",
       "        }    #T_df93d9d2_3de9_11e9_ac78_06005488e101row0_col4 {\n",
       "            background-color:  #c4cbe3;\n",
       "        }    #T_df93d9d2_3de9_11e9_ac78_06005488e101row0_col5 {\n",
       "            background-color:  #dbdaeb;\n",
       "        }    #T_df93d9d2_3de9_11e9_ac78_06005488e101row1_col0 {\n",
       "            background-color:  #faf3f9;\n",
       "        }    #T_df93d9d2_3de9_11e9_ac78_06005488e101row1_col1 {\n",
       "            background-color:  #023858;\n",
       "        }    #T_df93d9d2_3de9_11e9_ac78_06005488e101row1_col2 {\n",
       "            background-color:  #fdf5fa;\n",
       "        }    #T_df93d9d2_3de9_11e9_ac78_06005488e101row1_col3 {\n",
       "            background-color:  #fff7fb;\n",
       "        }    #T_df93d9d2_3de9_11e9_ac78_06005488e101row1_col4 {\n",
       "            background-color:  #fff7fb;\n",
       "        }    #T_df93d9d2_3de9_11e9_ac78_06005488e101row1_col5 {\n",
       "            background-color:  #fff7fb;\n",
       "        }    #T_df93d9d2_3de9_11e9_ac78_06005488e101row2_col0 {\n",
       "            background-color:  #e7e3f0;\n",
       "        }    #T_df93d9d2_3de9_11e9_ac78_06005488e101row2_col1 {\n",
       "            background-color:  #e0dded;\n",
       "        }    #T_df93d9d2_3de9_11e9_ac78_06005488e101row2_col2 {\n",
       "            background-color:  #023858;\n",
       "        }    #T_df93d9d2_3de9_11e9_ac78_06005488e101row2_col3 {\n",
       "            background-color:  #f5eff6;\n",
       "        }    #T_df93d9d2_3de9_11e9_ac78_06005488e101row2_col4 {\n",
       "            background-color:  #d5d5e8;\n",
       "        }    #T_df93d9d2_3de9_11e9_ac78_06005488e101row2_col5 {\n",
       "            background-color:  #e0deed;\n",
       "        }    #T_df93d9d2_3de9_11e9_ac78_06005488e101row3_col0 {\n",
       "            background-color:  #fff7fb;\n",
       "        }    #T_df93d9d2_3de9_11e9_ac78_06005488e101row3_col1 {\n",
       "            background-color:  #efe9f3;\n",
       "        }    #T_df93d9d2_3de9_11e9_ac78_06005488e101row3_col2 {\n",
       "            background-color:  #fff7fb;\n",
       "        }    #T_df93d9d2_3de9_11e9_ac78_06005488e101row3_col3 {\n",
       "            background-color:  #023858;\n",
       "        }    #T_df93d9d2_3de9_11e9_ac78_06005488e101row3_col4 {\n",
       "            background-color:  #d3d4e7;\n",
       "        }    #T_df93d9d2_3de9_11e9_ac78_06005488e101row3_col5 {\n",
       "            background-color:  #dad9ea;\n",
       "        }    #T_df93d9d2_3de9_11e9_ac78_06005488e101row4_col0 {\n",
       "            background-color:  #dedcec;\n",
       "        }    #T_df93d9d2_3de9_11e9_ac78_06005488e101row4_col1 {\n",
       "            background-color:  #fff7fb;\n",
       "        }    #T_df93d9d2_3de9_11e9_ac78_06005488e101row4_col2 {\n",
       "            background-color:  #f4edf6;\n",
       "        }    #T_df93d9d2_3de9_11e9_ac78_06005488e101row4_col3 {\n",
       "            background-color:  #e8e4f0;\n",
       "        }    #T_df93d9d2_3de9_11e9_ac78_06005488e101row4_col4 {\n",
       "            background-color:  #023858;\n",
       "        }    #T_df93d9d2_3de9_11e9_ac78_06005488e101row4_col5 {\n",
       "            background-color:  #034267;\n",
       "        }    #T_df93d9d2_3de9_11e9_ac78_06005488e101row5_col0 {\n",
       "            background-color:  #e9e5f1;\n",
       "        }    #T_df93d9d2_3de9_11e9_ac78_06005488e101row5_col1 {\n",
       "            background-color:  #f8f1f8;\n",
       "        }    #T_df93d9d2_3de9_11e9_ac78_06005488e101row5_col2 {\n",
       "            background-color:  #f6eff7;\n",
       "        }    #T_df93d9d2_3de9_11e9_ac78_06005488e101row5_col3 {\n",
       "            background-color:  #e7e3f0;\n",
       "        }    #T_df93d9d2_3de9_11e9_ac78_06005488e101row5_col4 {\n",
       "            background-color:  #034267;\n",
       "        }    #T_df93d9d2_3de9_11e9_ac78_06005488e101row5_col5 {\n",
       "            background-color:  #023858;\n",
       "        }</style>  \n",
       "<table id=\"T_df93d9d2_3de9_11e9_ac78_06005488e101\" > \n",
       "<thead>    <tr> \n",
       "        <th class=\"blank level0\" ></th> \n",
       "        <th class=\"col_heading level0 col0\" >text_len</th> \n",
       "        <th class=\"col_heading level0 col1\" >punct%</th> \n",
       "        <th class=\"col_heading level0 col2\" >day_week</th> \n",
       "        <th class=\"col_heading level0 col3\" >time</th> \n",
       "        <th class=\"col_heading level0 col4\" >favoriteCount</th> \n",
       "        <th class=\"col_heading level0 col5\" >retweetCount</th> \n",
       "    </tr></thead> \n",
       "<tbody>    <tr> \n",
       "        <th id=\"T_df93d9d2_3de9_11e9_ac78_06005488e101level0_row0\" class=\"row_heading level0 row0\" >text_len</th> \n",
       "        <td id=\"T_df93d9d2_3de9_11e9_ac78_06005488e101row0_col0\" class=\"data row0 col0\" >1</td> \n",
       "        <td id=\"T_df93d9d2_3de9_11e9_ac78_06005488e101row0_col1\" class=\"data row0 col1\" >-0.054</td> \n",
       "        <td id=\"T_df93d9d2_3de9_11e9_ac78_06005488e101row0_col2\" class=\"data row0 col2\" >0.066</td> \n",
       "        <td id=\"T_df93d9d2_3de9_11e9_ac78_06005488e101row0_col3\" class=\"data row0 col3\" >-0.092</td> \n",
       "        <td id=\"T_df93d9d2_3de9_11e9_ac78_06005488e101row0_col4\" class=\"data row0 col4\" >0.11</td> \n",
       "        <td id=\"T_df93d9d2_3de9_11e9_ac78_06005488e101row0_col5\" class=\"data row0 col5\" >0.059</td> \n",
       "    </tr>    <tr> \n",
       "        <th id=\"T_df93d9d2_3de9_11e9_ac78_06005488e101level0_row1\" class=\"row_heading level0 row1\" >punct%</th> \n",
       "        <td id=\"T_df93d9d2_3de9_11e9_ac78_06005488e101row1_col0\" class=\"data row1 col0\" >-0.054</td> \n",
       "        <td id=\"T_df93d9d2_3de9_11e9_ac78_06005488e101row1_col1\" class=\"data row1 col1\" >1</td> \n",
       "        <td id=\"T_df93d9d2_3de9_11e9_ac78_06005488e101row1_col2\" class=\"data row1 col2\" >-0.014</td> \n",
       "        <td id=\"T_df93d9d2_3de9_11e9_ac78_06005488e101row1_col3\" class=\"data row1 col3\" >-0.11</td> \n",
       "        <td id=\"T_df93d9d2_3de9_11e9_ac78_06005488e101row1_col4\" class=\"data row1 col4\" >-0.24</td> \n",
       "        <td id=\"T_df93d9d2_3de9_11e9_ac78_06005488e101row1_col5\" class=\"data row1 col5\" >-0.18</td> \n",
       "    </tr>    <tr> \n",
       "        <th id=\"T_df93d9d2_3de9_11e9_ac78_06005488e101level0_row2\" class=\"row_heading level0 row2\" >day_week</th> \n",
       "        <td id=\"T_df93d9d2_3de9_11e9_ac78_06005488e101row2_col0\" class=\"data row2 col0\" >0.066</td> \n",
       "        <td id=\"T_df93d9d2_3de9_11e9_ac78_06005488e101row2_col1\" class=\"data row2 col1\" >-0.014</td> \n",
       "        <td id=\"T_df93d9d2_3de9_11e9_ac78_06005488e101row2_col2\" class=\"data row2 col2\" >1</td> \n",
       "        <td id=\"T_df93d9d2_3de9_11e9_ac78_06005488e101row2_col3\" class=\"data row2 col3\" >-0.033</td> \n",
       "        <td id=\"T_df93d9d2_3de9_11e9_ac78_06005488e101row2_col4\" class=\"data row2 col4\" >0.045</td> \n",
       "        <td id=\"T_df93d9d2_3de9_11e9_ac78_06005488e101row2_col5\" class=\"data row2 col5\" >0.03</td> \n",
       "    </tr>    <tr> \n",
       "        <th id=\"T_df93d9d2_3de9_11e9_ac78_06005488e101level0_row3\" class=\"row_heading level0 row3\" >time</th> \n",
       "        <td id=\"T_df93d9d2_3de9_11e9_ac78_06005488e101row3_col0\" class=\"data row3 col0\" >-0.092</td> \n",
       "        <td id=\"T_df93d9d2_3de9_11e9_ac78_06005488e101row3_col1\" class=\"data row3 col1\" >-0.11</td> \n",
       "        <td id=\"T_df93d9d2_3de9_11e9_ac78_06005488e101row3_col2\" class=\"data row3 col2\" >-0.033</td> \n",
       "        <td id=\"T_df93d9d2_3de9_11e9_ac78_06005488e101row3_col3\" class=\"data row3 col3\" >1</td> \n",
       "        <td id=\"T_df93d9d2_3de9_11e9_ac78_06005488e101row3_col4\" class=\"data row3 col4\" >0.052</td> \n",
       "        <td id=\"T_df93d9d2_3de9_11e9_ac78_06005488e101row3_col5\" class=\"data row3 col5\" >0.061</td> \n",
       "    </tr>    <tr> \n",
       "        <th id=\"T_df93d9d2_3de9_11e9_ac78_06005488e101level0_row4\" class=\"row_heading level0 row4\" >favoriteCount</th> \n",
       "        <td id=\"T_df93d9d2_3de9_11e9_ac78_06005488e101row4_col0\" class=\"data row4 col0\" >0.11</td> \n",
       "        <td id=\"T_df93d9d2_3de9_11e9_ac78_06005488e101row4_col1\" class=\"data row4 col1\" >-0.24</td> \n",
       "        <td id=\"T_df93d9d2_3de9_11e9_ac78_06005488e101row4_col2\" class=\"data row4 col2\" >0.045</td> \n",
       "        <td id=\"T_df93d9d2_3de9_11e9_ac78_06005488e101row4_col3\" class=\"data row4 col3\" >0.052</td> \n",
       "        <td id=\"T_df93d9d2_3de9_11e9_ac78_06005488e101row4_col4\" class=\"data row4 col4\" >1</td> \n",
       "        <td id=\"T_df93d9d2_3de9_11e9_ac78_06005488e101row4_col5\" class=\"data row4 col5\" >0.96</td> \n",
       "    </tr>    <tr> \n",
       "        <th id=\"T_df93d9d2_3de9_11e9_ac78_06005488e101level0_row5\" class=\"row_heading level0 row5\" >retweetCount</th> \n",
       "        <td id=\"T_df93d9d2_3de9_11e9_ac78_06005488e101row5_col0\" class=\"data row5 col0\" >0.059</td> \n",
       "        <td id=\"T_df93d9d2_3de9_11e9_ac78_06005488e101row5_col1\" class=\"data row5 col1\" >-0.18</td> \n",
       "        <td id=\"T_df93d9d2_3de9_11e9_ac78_06005488e101row5_col2\" class=\"data row5 col2\" >0.03</td> \n",
       "        <td id=\"T_df93d9d2_3de9_11e9_ac78_06005488e101row5_col3\" class=\"data row5 col3\" >0.061</td> \n",
       "        <td id=\"T_df93d9d2_3de9_11e9_ac78_06005488e101row5_col4\" class=\"data row5 col4\" >0.96</td> \n",
       "        <td id=\"T_df93d9d2_3de9_11e9_ac78_06005488e101row5_col5\" class=\"data row5 col5\" >1</td> \n",
       "    </tr></tbody> \n",
       "</table> "
      ],
      "text/plain": [
       "<pandas.io.formats.style.Styler at 0x1a1d4e0c50>"
      ]
     },
     "execution_count": 3,
     "metadata": {},
     "output_type": "execute_result"
    }
   ],
   "source": [
    "corr = X_features_zero.corr()\n",
    "corr.style.background_gradient()\n",
    "corr.style.background_gradient().set_precision(2)"
   ]
  },
  {
   "cell_type": "markdown",
   "metadata": {},
   "source": [
    "We only keep one of the features between \"favoriteCount\" and \"retweetCount\" since they are highly correlated."
   ]
  },
  {
   "cell_type": "code",
   "execution_count": 7,
   "metadata": {},
   "outputs": [
    {
     "data": {
      "text/html": [
       "<div>\n",
       "<style scoped>\n",
       "    .dataframe tbody tr th:only-of-type {\n",
       "        vertical-align: middle;\n",
       "    }\n",
       "\n",
       "    .dataframe tbody tr th {\n",
       "        vertical-align: top;\n",
       "    }\n",
       "\n",
       "    .dataframe thead th {\n",
       "        text-align: right;\n",
       "    }\n",
       "</style>\n",
       "<table border=\"1\" class=\"dataframe\">\n",
       "  <thead>\n",
       "    <tr style=\"text-align: right;\">\n",
       "      <th></th>\n",
       "      <th>text_len</th>\n",
       "      <th>punct%</th>\n",
       "      <th>day_week</th>\n",
       "      <th>time</th>\n",
       "      <th>favoriteCount</th>\n",
       "      <th>0</th>\n",
       "      <th>1</th>\n",
       "      <th>2</th>\n",
       "      <th>3</th>\n",
       "      <th>4</th>\n",
       "      <th>...</th>\n",
       "      <th>12261</th>\n",
       "      <th>12262</th>\n",
       "      <th>12263</th>\n",
       "      <th>12264</th>\n",
       "      <th>12265</th>\n",
       "      <th>12266</th>\n",
       "      <th>12267</th>\n",
       "      <th>12268</th>\n",
       "      <th>12269</th>\n",
       "      <th>12270</th>\n",
       "    </tr>\n",
       "  </thead>\n",
       "  <tbody>\n",
       "    <tr>\n",
       "      <th>0</th>\n",
       "      <td>103</td>\n",
       "      <td>2.9</td>\n",
       "      <td>1</td>\n",
       "      <td>100</td>\n",
       "      <td>14207</td>\n",
       "      <td>0</td>\n",
       "      <td>0</td>\n",
       "      <td>0</td>\n",
       "      <td>0</td>\n",
       "      <td>0</td>\n",
       "      <td>...</td>\n",
       "      <td>0</td>\n",
       "      <td>0</td>\n",
       "      <td>0</td>\n",
       "      <td>0</td>\n",
       "      <td>0</td>\n",
       "      <td>0</td>\n",
       "      <td>0</td>\n",
       "      <td>0</td>\n",
       "      <td>0</td>\n",
       "      <td>0</td>\n",
       "    </tr>\n",
       "    <tr>\n",
       "      <th>1</th>\n",
       "      <td>28</td>\n",
       "      <td>7.1</td>\n",
       "      <td>0</td>\n",
       "      <td>2220</td>\n",
       "      <td>9666</td>\n",
       "      <td>0</td>\n",
       "      <td>0</td>\n",
       "      <td>0</td>\n",
       "      <td>0</td>\n",
       "      <td>0</td>\n",
       "      <td>...</td>\n",
       "      <td>0</td>\n",
       "      <td>0</td>\n",
       "      <td>0</td>\n",
       "      <td>0</td>\n",
       "      <td>0</td>\n",
       "      <td>0</td>\n",
       "      <td>0</td>\n",
       "      <td>0</td>\n",
       "      <td>0</td>\n",
       "      <td>0</td>\n",
       "    </tr>\n",
       "    <tr>\n",
       "      <th>2</th>\n",
       "      <td>31</td>\n",
       "      <td>9.7</td>\n",
       "      <td>0</td>\n",
       "      <td>2140</td>\n",
       "      <td>25531</td>\n",
       "      <td>0</td>\n",
       "      <td>0</td>\n",
       "      <td>0</td>\n",
       "      <td>0</td>\n",
       "      <td>0</td>\n",
       "      <td>...</td>\n",
       "      <td>0</td>\n",
       "      <td>0</td>\n",
       "      <td>0</td>\n",
       "      <td>0</td>\n",
       "      <td>0</td>\n",
       "      <td>0</td>\n",
       "      <td>0</td>\n",
       "      <td>0</td>\n",
       "      <td>0</td>\n",
       "      <td>0</td>\n",
       "    </tr>\n",
       "    <tr>\n",
       "      <th>3</th>\n",
       "      <td>116</td>\n",
       "      <td>4.3</td>\n",
       "      <td>0</td>\n",
       "      <td>1950</td>\n",
       "      <td>28850</td>\n",
       "      <td>0</td>\n",
       "      <td>0</td>\n",
       "      <td>0</td>\n",
       "      <td>0</td>\n",
       "      <td>0</td>\n",
       "      <td>...</td>\n",
       "      <td>0</td>\n",
       "      <td>0</td>\n",
       "      <td>0</td>\n",
       "      <td>0</td>\n",
       "      <td>0</td>\n",
       "      <td>0</td>\n",
       "      <td>0</td>\n",
       "      <td>0</td>\n",
       "      <td>0</td>\n",
       "      <td>0</td>\n",
       "    </tr>\n",
       "    <tr>\n",
       "      <th>4</th>\n",
       "      <td>70</td>\n",
       "      <td>8.6</td>\n",
       "      <td>0</td>\n",
       "      <td>1200</td>\n",
       "      <td>12567</td>\n",
       "      <td>0</td>\n",
       "      <td>0</td>\n",
       "      <td>0</td>\n",
       "      <td>0</td>\n",
       "      <td>0</td>\n",
       "      <td>...</td>\n",
       "      <td>0</td>\n",
       "      <td>0</td>\n",
       "      <td>0</td>\n",
       "      <td>0</td>\n",
       "      <td>0</td>\n",
       "      <td>0</td>\n",
       "      <td>0</td>\n",
       "      <td>0</td>\n",
       "      <td>0</td>\n",
       "      <td>0</td>\n",
       "    </tr>\n",
       "  </tbody>\n",
       "</table>\n",
       "<p>5 rows × 12276 columns</p>\n",
       "</div>"
      ],
      "text/plain": [
       "   text_len  punct%  day_week  time  favoriteCount  0  1  2  3  4  ...    \\\n",
       "0       103     2.9         1   100          14207  0  0  0  0  0  ...     \n",
       "1        28     7.1         0  2220           9666  0  0  0  0  0  ...     \n",
       "2        31     9.7         0  2140          25531  0  0  0  0  0  ...     \n",
       "3       116     4.3         0  1950          28850  0  0  0  0  0  ...     \n",
       "4        70     8.6         0  1200          12567  0  0  0  0  0  ...     \n",
       "\n",
       "   12261  12262  12263  12264  12265  12266  12267  12268  12269  12270  \n",
       "0      0      0      0      0      0      0      0      0      0      0  \n",
       "1      0      0      0      0      0      0      0      0      0      0  \n",
       "2      0      0      0      0      0      0      0      0      0      0  \n",
       "3      0      0      0      0      0      0      0      0      0      0  \n",
       "4      0      0      0      0      0      0      0      0      0      0  \n",
       "\n",
       "[5 rows x 12276 columns]"
      ]
     },
     "execution_count": 7,
     "metadata": {},
     "output_type": "execute_result"
    }
   ],
   "source": [
    "X_features = pd.concat([data['text_len'], data['punct%'],data['day_week'], data['time'], data['favoriteCount'],pd.DataFrame(X_counts.toarray())], axis=1)\n",
    "X_features.head()"
   ]
  },
  {
   "cell_type": "markdown",
   "metadata": {},
   "source": [
    "### Train-test evaluation "
   ]
  },
  {
   "cell_type": "code",
   "execution_count": 8,
   "metadata": {},
   "outputs": [],
   "source": [
    "from sklearn.metrics import precision_recall_fscore_support as score\n",
    "from sklearn.model_selection import train_test_split"
   ]
  },
  {
   "cell_type": "code",
   "execution_count": 9,
   "metadata": {},
   "outputs": [],
   "source": [
    "X_train, X_test, y_train, y_test = train_test_split(X_features, data['label'], test_size=0.2)"
   ]
  },
  {
   "cell_type": "markdown",
   "metadata": {},
   "source": [
    "### Random Forest"
   ]
  },
  {
   "cell_type": "code",
   "execution_count": 21,
   "metadata": {},
   "outputs": [],
   "source": [
    "from sklearn.ensemble import RandomForestClassifier\n",
    "n=500\n",
    "\n",
    "rf = RandomForestClassifier(n_estimators=n, n_jobs=-1)\n",
    "rf_model = rf.fit(X_train, y_train)"
   ]
  },
  {
   "cell_type": "code",
   "execution_count": 24,
   "metadata": {},
   "outputs": [],
   "source": [
    "y_pred = rf_model.predict(X_test)\n",
    "precision, recall, fscore, support = score(y_test, y_pred, pos_label=1, average='binary')"
   ]
  },
  {
   "cell_type": "code",
   "execution_count": 25,
   "metadata": {},
   "outputs": [
    {
     "name": "stdout",
     "output_type": "stream",
     "text": [
      "Precision: 0.842 / Recall: 0.936 / Accuracy: 0.862\n"
     ]
    }
   ],
   "source": [
    "print('Precision: {} / Recall: {} / Accuracy: {}'.format(round(precision, 3),\n",
    "                                                        round(recall, 3),\n",
    "                                                        round((y_pred==y_test).sum() / len(y_pred),3)))"
   ]
  },
  {
   "cell_type": "code",
   "execution_count": 9,
   "metadata": {},
   "outputs": [
    {
     "data": {
      "text/plain": [
       "[(0.09823599006386, 4999),\n",
       " (0.06721652627127792, 'text_len'),\n",
       " (0.03585222358943195, 'time'),\n",
       " (0.029045222070738647, 9659),\n",
       " (0.02804277717514518, 10801),\n",
       " (0.014777002178556849, 'punct%'),\n",
       " (0.010893290626243462, 'favoriteCount'),\n",
       " (0.009922738767070546, 6280),\n",
       " (0.008241286503650014, 'day_week'),\n",
       " (0.006874305039625653, 5689)]"
      ]
     },
     "execution_count": 9,
     "metadata": {},
     "output_type": "execute_result"
    }
   ],
   "source": [
    "sorted(zip(rf_model.feature_importances_, X_train.columns), reverse=True)[0:10]"
   ]
  },
  {
   "cell_type": "markdown",
   "metadata": {},
   "source": [
    "### Tuning Parameters"
   ]
  },
  {
   "cell_type": "code",
   "execution_count": 20,
   "metadata": {},
   "outputs": [],
   "source": [
    "from sklearn.model_selection import RandomizedSearchCV"
   ]
  },
  {
   "cell_type": "code",
   "execution_count": 52,
   "metadata": {},
   "outputs": [],
   "source": [
    "import numpy as np\n",
    "rf = RandomForestClassifier()\n",
    "\n",
    "# Number of trees in random forest\n",
    "n_estimators = [int(x) for x in np.linspace(start = 200, stop = 2000, num =10)]\n",
    "# Number of features to consider at every split \n",
    "max_features = ['auto', 'sqrt']\n",
    "# Maximum number of levels in tree\n",
    "max_depth = [int(x) for x in np.linspace(3,30, num = 3)]\n",
    "\n",
    "random_grid = { 'n_estimators': n_estimators, \n",
    "                 'max_features': max_features,\n",
    "                'max_depth': max_depth}\n",
    "\n",
    "n_iter_search = 20\n",
    "\n",
    "clf = RandomizedSearchCV(rf, param_distributions = random_grid,n_iter=n_iter_search, cv=5, n_jobs=-1)\n",
    "cv_fit = clf.fit(X_train, y_train)\n",
    "#pd.DataFrame(cv_fit.cv_results_).sort_values('mean_test_score', ascending=False)[0:5]"
   ]
  },
  {
   "cell_type": "code",
   "execution_count": 53,
   "metadata": {},
   "outputs": [
    {
     "data": {
      "text/plain": [
       "{'n_estimators': 1600, 'max_features': 'sqrt', 'max_depth': 30}"
      ]
     },
     "execution_count": 53,
     "metadata": {},
     "output_type": "execute_result"
    }
   ],
   "source": [
    "clf.best_params_"
   ]
  },
  {
   "cell_type": "markdown",
   "metadata": {},
   "source": [
    "## Boosting"
   ]
  },
  {
   "cell_type": "code",
   "execution_count": 4,
   "metadata": {},
   "outputs": [],
   "source": [
    "import xgboost as xgb"
   ]
  },
  {
   "cell_type": "code",
   "execution_count": 10,
   "metadata": {},
   "outputs": [],
   "source": [
    "dtrain = xgb.DMatrix(X_train, y_train)\n",
    "dtest = xgb.DMatrix(X_test, y_test)"
   ]
  },
  {
   "cell_type": "code",
   "execution_count": 16,
   "metadata": {},
   "outputs": [
    {
     "name": "stderr",
     "output_type": "stream",
     "text": [
      "/Users/dylangreed/anaconda3/lib/python3.6/site-packages/sklearn/preprocessing/label.py:151: DeprecationWarning: The truth value of an empty array is ambiguous. Returning False, but in future this will result in an error. Use `array.size > 0` to check that an array is not empty.\n",
      "  if diff:\n"
     ]
    }
   ],
   "source": [
    "gbm = xgb.XGBClassifier(max_depth=3, n_estimators=300, learning_rate=0.05).fit(X_train, y_train)\n",
    "y_pred= gbm.predict(X_test)"
   ]
  },
  {
   "cell_type": "code",
   "execution_count": 18,
   "metadata": {},
   "outputs": [
    {
     "name": "stdout",
     "output_type": "stream",
     "text": [
      "Precision: 0.849 / Recall: 0.877 / Accuracy: 0.844\n"
     ]
    }
   ],
   "source": [
    "precision, recall, fscore, support = score(y_test, y_pred, pos_label=1, average='binary')\n",
    "print('Precision: {} / Recall: {} / Accuracy: {}'.format(round(precision, 3),\n",
    "                                                        round(recall, 3),\n",
    "                                                        round((y_pred==y_test).sum() / len(y_pred),3)))"
   ]
  },
  {
   "cell_type": "markdown",
   "metadata": {},
   "source": [
    "### tuning parameters"
   ]
  },
  {
   "cell_type": "code",
   "execution_count": 23,
   "metadata": {},
   "outputs": [
    {
     "name": "stderr",
     "output_type": "stream",
     "text": [
      "/Users/dylangreed/anaconda3/lib/python3.6/site-packages/sklearn/preprocessing/label.py:151: DeprecationWarning: The truth value of an empty array is ambiguous. Returning False, but in future this will result in an error. Use `array.size > 0` to check that an array is not empty.\n",
      "  if diff:\n",
      "/Users/dylangreed/anaconda3/lib/python3.6/site-packages/sklearn/preprocessing/label.py:151: DeprecationWarning: The truth value of an empty array is ambiguous. Returning False, but in future this will result in an error. Use `array.size > 0` to check that an array is not empty.\n",
      "  if diff:\n",
      "/Users/dylangreed/anaconda3/lib/python3.6/site-packages/sklearn/preprocessing/label.py:151: DeprecationWarning: The truth value of an empty array is ambiguous. Returning False, but in future this will result in an error. Use `array.size > 0` to check that an array is not empty.\n",
      "  if diff:\n",
      "/Users/dylangreed/anaconda3/lib/python3.6/site-packages/sklearn/preprocessing/label.py:151: DeprecationWarning: The truth value of an empty array is ambiguous. Returning False, but in future this will result in an error. Use `array.size > 0` to check that an array is not empty.\n",
      "  if diff:\n",
      "/Users/dylangreed/anaconda3/lib/python3.6/site-packages/sklearn/preprocessing/label.py:151: DeprecationWarning: The truth value of an empty array is ambiguous. Returning False, but in future this will result in an error. Use `array.size > 0` to check that an array is not empty.\n",
      "  if diff:\n",
      "/Users/dylangreed/anaconda3/lib/python3.6/site-packages/sklearn/preprocessing/label.py:151: DeprecationWarning: The truth value of an empty array is ambiguous. Returning False, but in future this will result in an error. Use `array.size > 0` to check that an array is not empty.\n",
      "  if diff:\n",
      "/Users/dylangreed/anaconda3/lib/python3.6/site-packages/sklearn/preprocessing/label.py:151: DeprecationWarning: The truth value of an empty array is ambiguous. Returning False, but in future this will result in an error. Use `array.size > 0` to check that an array is not empty.\n",
      "  if diff:\n",
      "/Users/dylangreed/anaconda3/lib/python3.6/site-packages/sklearn/preprocessing/label.py:151: DeprecationWarning: The truth value of an empty array is ambiguous. Returning False, but in future this will result in an error. Use `array.size > 0` to check that an array is not empty.\n",
      "  if diff:\n",
      "/Users/dylangreed/anaconda3/lib/python3.6/site-packages/sklearn/preprocessing/label.py:151: DeprecationWarning: The truth value of an empty array is ambiguous. Returning False, but in future this will result in an error. Use `array.size > 0` to check that an array is not empty.\n",
      "  if diff:\n",
      "/Users/dylangreed/anaconda3/lib/python3.6/site-packages/sklearn/preprocessing/label.py:151: DeprecationWarning: The truth value of an empty array is ambiguous. Returning False, but in future this will result in an error. Use `array.size > 0` to check that an array is not empty.\n",
      "  if diff:\n",
      "/Users/dylangreed/anaconda3/lib/python3.6/site-packages/sklearn/preprocessing/label.py:151: DeprecationWarning: The truth value of an empty array is ambiguous. Returning False, but in future this will result in an error. Use `array.size > 0` to check that an array is not empty.\n",
      "  if diff:\n",
      "/Users/dylangreed/anaconda3/lib/python3.6/site-packages/sklearn/preprocessing/label.py:151: DeprecationWarning: The truth value of an empty array is ambiguous. Returning False, but in future this will result in an error. Use `array.size > 0` to check that an array is not empty.\n",
      "  if diff:\n",
      "/Users/dylangreed/anaconda3/lib/python3.6/site-packages/sklearn/preprocessing/label.py:151: DeprecationWarning: The truth value of an empty array is ambiguous. Returning False, but in future this will result in an error. Use `array.size > 0` to check that an array is not empty.\n",
      "  if diff:\n",
      "/Users/dylangreed/anaconda3/lib/python3.6/site-packages/sklearn/preprocessing/label.py:151: DeprecationWarning: The truth value of an empty array is ambiguous. Returning False, but in future this will result in an error. Use `array.size > 0` to check that an array is not empty.\n",
      "  if diff:\n",
      "/Users/dylangreed/anaconda3/lib/python3.6/site-packages/sklearn/preprocessing/label.py:151: DeprecationWarning: The truth value of an empty array is ambiguous. Returning False, but in future this will result in an error. Use `array.size > 0` to check that an array is not empty.\n",
      "  if diff:\n",
      "/Users/dylangreed/anaconda3/lib/python3.6/site-packages/sklearn/preprocessing/label.py:151: DeprecationWarning: The truth value of an empty array is ambiguous. Returning False, but in future this will result in an error. Use `array.size > 0` to check that an array is not empty.\n",
      "  if diff:\n",
      "/Users/dylangreed/anaconda3/lib/python3.6/site-packages/sklearn/preprocessing/label.py:151: DeprecationWarning: The truth value of an empty array is ambiguous. Returning False, but in future this will result in an error. Use `array.size > 0` to check that an array is not empty.\n",
      "  if diff:\n",
      "/Users/dylangreed/anaconda3/lib/python3.6/site-packages/sklearn/preprocessing/label.py:151: DeprecationWarning: The truth value of an empty array is ambiguous. Returning False, but in future this will result in an error. Use `array.size > 0` to check that an array is not empty.\n",
      "  if diff:\n",
      "/Users/dylangreed/anaconda3/lib/python3.6/site-packages/sklearn/preprocessing/label.py:151: DeprecationWarning: The truth value of an empty array is ambiguous. Returning False, but in future this will result in an error. Use `array.size > 0` to check that an array is not empty.\n",
      "  if diff:\n",
      "/Users/dylangreed/anaconda3/lib/python3.6/site-packages/sklearn/preprocessing/label.py:151: DeprecationWarning: The truth value of an empty array is ambiguous. Returning False, but in future this will result in an error. Use `array.size > 0` to check that an array is not empty.\n",
      "  if diff:\n",
      "/Users/dylangreed/anaconda3/lib/python3.6/site-packages/sklearn/preprocessing/label.py:151: DeprecationWarning: The truth value of an empty array is ambiguous. Returning False, but in future this will result in an error. Use `array.size > 0` to check that an array is not empty.\n",
      "  if diff:\n",
      "/Users/dylangreed/anaconda3/lib/python3.6/site-packages/sklearn/preprocessing/label.py:151: DeprecationWarning: The truth value of an empty array is ambiguous. Returning False, but in future this will result in an error. Use `array.size > 0` to check that an array is not empty.\n",
      "  if diff:\n",
      "/Users/dylangreed/anaconda3/lib/python3.6/site-packages/sklearn/preprocessing/label.py:151: DeprecationWarning: The truth value of an empty array is ambiguous. Returning False, but in future this will result in an error. Use `array.size > 0` to check that an array is not empty.\n",
      "  if diff:\n",
      "/Users/dylangreed/anaconda3/lib/python3.6/site-packages/sklearn/preprocessing/label.py:151: DeprecationWarning: The truth value of an empty array is ambiguous. Returning False, but in future this will result in an error. Use `array.size > 0` to check that an array is not empty.\n",
      "  if diff:\n",
      "/Users/dylangreed/anaconda3/lib/python3.6/site-packages/sklearn/preprocessing/label.py:151: DeprecationWarning: The truth value of an empty array is ambiguous. Returning False, but in future this will result in an error. Use `array.size > 0` to check that an array is not empty.\n",
      "  if diff:\n",
      "/Users/dylangreed/anaconda3/lib/python3.6/site-packages/sklearn/preprocessing/label.py:151: DeprecationWarning: The truth value of an empty array is ambiguous. Returning False, but in future this will result in an error. Use `array.size > 0` to check that an array is not empty.\n",
      "  if diff:\n",
      "/Users/dylangreed/anaconda3/lib/python3.6/site-packages/sklearn/preprocessing/label.py:151: DeprecationWarning: The truth value of an empty array is ambiguous. Returning False, but in future this will result in an error. Use `array.size > 0` to check that an array is not empty.\n",
      "  if diff:\n",
      "/Users/dylangreed/anaconda3/lib/python3.6/site-packages/sklearn/preprocessing/label.py:151: DeprecationWarning: The truth value of an empty array is ambiguous. Returning False, but in future this will result in an error. Use `array.size > 0` to check that an array is not empty.\n",
      "  if diff:\n",
      "/Users/dylangreed/anaconda3/lib/python3.6/site-packages/sklearn/preprocessing/label.py:151: DeprecationWarning: The truth value of an empty array is ambiguous. Returning False, but in future this will result in an error. Use `array.size > 0` to check that an array is not empty.\n",
      "  if diff:\n"
     ]
    },
    {
     "name": "stderr",
     "output_type": "stream",
     "text": [
      "/Users/dylangreed/anaconda3/lib/python3.6/site-packages/sklearn/preprocessing/label.py:151: DeprecationWarning: The truth value of an empty array is ambiguous. Returning False, but in future this will result in an error. Use `array.size > 0` to check that an array is not empty.\n",
      "  if diff:\n",
      "/Users/dylangreed/anaconda3/lib/python3.6/site-packages/sklearn/preprocessing/label.py:151: DeprecationWarning: The truth value of an empty array is ambiguous. Returning False, but in future this will result in an error. Use `array.size > 0` to check that an array is not empty.\n",
      "  if diff:\n",
      "/Users/dylangreed/anaconda3/lib/python3.6/site-packages/sklearn/preprocessing/label.py:151: DeprecationWarning: The truth value of an empty array is ambiguous. Returning False, but in future this will result in an error. Use `array.size > 0` to check that an array is not empty.\n",
      "  if diff:\n",
      "/Users/dylangreed/anaconda3/lib/python3.6/site-packages/sklearn/preprocessing/label.py:151: DeprecationWarning: The truth value of an empty array is ambiguous. Returning False, but in future this will result in an error. Use `array.size > 0` to check that an array is not empty.\n",
      "  if diff:\n",
      "/Users/dylangreed/anaconda3/lib/python3.6/site-packages/sklearn/preprocessing/label.py:151: DeprecationWarning: The truth value of an empty array is ambiguous. Returning False, but in future this will result in an error. Use `array.size > 0` to check that an array is not empty.\n",
      "  if diff:\n",
      "/Users/dylangreed/anaconda3/lib/python3.6/site-packages/sklearn/preprocessing/label.py:151: DeprecationWarning: The truth value of an empty array is ambiguous. Returning False, but in future this will result in an error. Use `array.size > 0` to check that an array is not empty.\n",
      "  if diff:\n",
      "/Users/dylangreed/anaconda3/lib/python3.6/site-packages/sklearn/preprocessing/label.py:151: DeprecationWarning: The truth value of an empty array is ambiguous. Returning False, but in future this will result in an error. Use `array.size > 0` to check that an array is not empty.\n",
      "  if diff:\n",
      "/Users/dylangreed/anaconda3/lib/python3.6/site-packages/sklearn/preprocessing/label.py:151: DeprecationWarning: The truth value of an empty array is ambiguous. Returning False, but in future this will result in an error. Use `array.size > 0` to check that an array is not empty.\n",
      "  if diff:\n",
      "/Users/dylangreed/anaconda3/lib/python3.6/site-packages/sklearn/preprocessing/label.py:151: DeprecationWarning: The truth value of an empty array is ambiguous. Returning False, but in future this will result in an error. Use `array.size > 0` to check that an array is not empty.\n",
      "  if diff:\n",
      "/Users/dylangreed/anaconda3/lib/python3.6/site-packages/sklearn/preprocessing/label.py:151: DeprecationWarning: The truth value of an empty array is ambiguous. Returning False, but in future this will result in an error. Use `array.size > 0` to check that an array is not empty.\n",
      "  if diff:\n",
      "/Users/dylangreed/anaconda3/lib/python3.6/site-packages/sklearn/preprocessing/label.py:151: DeprecationWarning: The truth value of an empty array is ambiguous. Returning False, but in future this will result in an error. Use `array.size > 0` to check that an array is not empty.\n",
      "  if diff:\n",
      "/Users/dylangreed/anaconda3/lib/python3.6/site-packages/sklearn/preprocessing/label.py:151: DeprecationWarning: The truth value of an empty array is ambiguous. Returning False, but in future this will result in an error. Use `array.size > 0` to check that an array is not empty.\n",
      "  if diff:\n",
      "/Users/dylangreed/anaconda3/lib/python3.6/site-packages/sklearn/preprocessing/label.py:151: DeprecationWarning: The truth value of an empty array is ambiguous. Returning False, but in future this will result in an error. Use `array.size > 0` to check that an array is not empty.\n",
      "  if diff:\n",
      "/Users/dylangreed/anaconda3/lib/python3.6/site-packages/sklearn/preprocessing/label.py:151: DeprecationWarning: The truth value of an empty array is ambiguous. Returning False, but in future this will result in an error. Use `array.size > 0` to check that an array is not empty.\n",
      "  if diff:\n",
      "/Users/dylangreed/anaconda3/lib/python3.6/site-packages/sklearn/preprocessing/label.py:151: DeprecationWarning: The truth value of an empty array is ambiguous. Returning False, but in future this will result in an error. Use `array.size > 0` to check that an array is not empty.\n",
      "  if diff:\n",
      "/Users/dylangreed/anaconda3/lib/python3.6/site-packages/sklearn/preprocessing/label.py:151: DeprecationWarning: The truth value of an empty array is ambiguous. Returning False, but in future this will result in an error. Use `array.size > 0` to check that an array is not empty.\n",
      "  if diff:\n",
      "/Users/dylangreed/anaconda3/lib/python3.6/site-packages/sklearn/preprocessing/label.py:151: DeprecationWarning: The truth value of an empty array is ambiguous. Returning False, but in future this will result in an error. Use `array.size > 0` to check that an array is not empty.\n",
      "  if diff:\n",
      "/Users/dylangreed/anaconda3/lib/python3.6/site-packages/sklearn/preprocessing/label.py:151: DeprecationWarning: The truth value of an empty array is ambiguous. Returning False, but in future this will result in an error. Use `array.size > 0` to check that an array is not empty.\n",
      "  if diff:\n",
      "/Users/dylangreed/anaconda3/lib/python3.6/site-packages/sklearn/preprocessing/label.py:151: DeprecationWarning: The truth value of an empty array is ambiguous. Returning False, but in future this will result in an error. Use `array.size > 0` to check that an array is not empty.\n",
      "  if diff:\n",
      "/Users/dylangreed/anaconda3/lib/python3.6/site-packages/sklearn/preprocessing/label.py:151: DeprecationWarning: The truth value of an empty array is ambiguous. Returning False, but in future this will result in an error. Use `array.size > 0` to check that an array is not empty.\n",
      "  if diff:\n",
      "/Users/dylangreed/anaconda3/lib/python3.6/site-packages/sklearn/preprocessing/label.py:151: DeprecationWarning: The truth value of an empty array is ambiguous. Returning False, but in future this will result in an error. Use `array.size > 0` to check that an array is not empty.\n",
      "  if diff:\n",
      "/Users/dylangreed/anaconda3/lib/python3.6/site-packages/sklearn/preprocessing/label.py:151: DeprecationWarning: The truth value of an empty array is ambiguous. Returning False, but in future this will result in an error. Use `array.size > 0` to check that an array is not empty.\n",
      "  if diff:\n",
      "/Users/dylangreed/anaconda3/lib/python3.6/site-packages/sklearn/preprocessing/label.py:151: DeprecationWarning: The truth value of an empty array is ambiguous. Returning False, but in future this will result in an error. Use `array.size > 0` to check that an array is not empty.\n",
      "  if diff:\n",
      "/Users/dylangreed/anaconda3/lib/python3.6/site-packages/sklearn/preprocessing/label.py:151: DeprecationWarning: The truth value of an empty array is ambiguous. Returning False, but in future this will result in an error. Use `array.size > 0` to check that an array is not empty.\n",
      "  if diff:\n",
      "/Users/dylangreed/anaconda3/lib/python3.6/site-packages/sklearn/preprocessing/label.py:151: DeprecationWarning: The truth value of an empty array is ambiguous. Returning False, but in future this will result in an error. Use `array.size > 0` to check that an array is not empty.\n",
      "  if diff:\n",
      "/Users/dylangreed/anaconda3/lib/python3.6/site-packages/sklearn/preprocessing/label.py:151: DeprecationWarning: The truth value of an empty array is ambiguous. Returning False, but in future this will result in an error. Use `array.size > 0` to check that an array is not empty.\n",
      "  if diff:\n",
      "/Users/dylangreed/anaconda3/lib/python3.6/site-packages/sklearn/preprocessing/label.py:151: DeprecationWarning: The truth value of an empty array is ambiguous. Returning False, but in future this will result in an error. Use `array.size > 0` to check that an array is not empty.\n",
      "  if diff:\n",
      "/Users/dylangreed/anaconda3/lib/python3.6/site-packages/sklearn/preprocessing/label.py:151: DeprecationWarning: The truth value of an empty array is ambiguous. Returning False, but in future this will result in an error. Use `array.size > 0` to check that an array is not empty.\n",
      "  if diff:\n",
      "/Users/dylangreed/anaconda3/lib/python3.6/site-packages/sklearn/preprocessing/label.py:151: DeprecationWarning: The truth value of an empty array is ambiguous. Returning False, but in future this will result in an error. Use `array.size > 0` to check that an array is not empty.\n",
      "  if diff:\n"
     ]
    },
    {
     "name": "stderr",
     "output_type": "stream",
     "text": [
      "/Users/dylangreed/anaconda3/lib/python3.6/site-packages/sklearn/preprocessing/label.py:151: DeprecationWarning: The truth value of an empty array is ambiguous. Returning False, but in future this will result in an error. Use `array.size > 0` to check that an array is not empty.\n",
      "  if diff:\n",
      "/Users/dylangreed/anaconda3/lib/python3.6/site-packages/sklearn/preprocessing/label.py:151: DeprecationWarning: The truth value of an empty array is ambiguous. Returning False, but in future this will result in an error. Use `array.size > 0` to check that an array is not empty.\n",
      "  if diff:\n",
      "/Users/dylangreed/anaconda3/lib/python3.6/site-packages/sklearn/preprocessing/label.py:151: DeprecationWarning: The truth value of an empty array is ambiguous. Returning False, but in future this will result in an error. Use `array.size > 0` to check that an array is not empty.\n",
      "  if diff:\n",
      "/Users/dylangreed/anaconda3/lib/python3.6/site-packages/sklearn/preprocessing/label.py:151: DeprecationWarning: The truth value of an empty array is ambiguous. Returning False, but in future this will result in an error. Use `array.size > 0` to check that an array is not empty.\n",
      "  if diff:\n",
      "/Users/dylangreed/anaconda3/lib/python3.6/site-packages/sklearn/preprocessing/label.py:151: DeprecationWarning: The truth value of an empty array is ambiguous. Returning False, but in future this will result in an error. Use `array.size > 0` to check that an array is not empty.\n",
      "  if diff:\n",
      "/Users/dylangreed/anaconda3/lib/python3.6/site-packages/sklearn/preprocessing/label.py:151: DeprecationWarning: The truth value of an empty array is ambiguous. Returning False, but in future this will result in an error. Use `array.size > 0` to check that an array is not empty.\n",
      "  if diff:\n",
      "/Users/dylangreed/anaconda3/lib/python3.6/site-packages/sklearn/preprocessing/label.py:151: DeprecationWarning: The truth value of an empty array is ambiguous. Returning False, but in future this will result in an error. Use `array.size > 0` to check that an array is not empty.\n",
      "  if diff:\n",
      "/Users/dylangreed/anaconda3/lib/python3.6/site-packages/sklearn/preprocessing/label.py:151: DeprecationWarning: The truth value of an empty array is ambiguous. Returning False, but in future this will result in an error. Use `array.size > 0` to check that an array is not empty.\n",
      "  if diff:\n",
      "/Users/dylangreed/anaconda3/lib/python3.6/site-packages/sklearn/preprocessing/label.py:151: DeprecationWarning: The truth value of an empty array is ambiguous. Returning False, but in future this will result in an error. Use `array.size > 0` to check that an array is not empty.\n",
      "  if diff:\n",
      "/Users/dylangreed/anaconda3/lib/python3.6/site-packages/sklearn/preprocessing/label.py:151: DeprecationWarning: The truth value of an empty array is ambiguous. Returning False, but in future this will result in an error. Use `array.size > 0` to check that an array is not empty.\n",
      "  if diff:\n",
      "/Users/dylangreed/anaconda3/lib/python3.6/site-packages/sklearn/preprocessing/label.py:151: DeprecationWarning: The truth value of an empty array is ambiguous. Returning False, but in future this will result in an error. Use `array.size > 0` to check that an array is not empty.\n",
      "  if diff:\n",
      "/Users/dylangreed/anaconda3/lib/python3.6/site-packages/sklearn/preprocessing/label.py:151: DeprecationWarning: The truth value of an empty array is ambiguous. Returning False, but in future this will result in an error. Use `array.size > 0` to check that an array is not empty.\n",
      "  if diff:\n",
      "/Users/dylangreed/anaconda3/lib/python3.6/site-packages/sklearn/preprocessing/label.py:151: DeprecationWarning: The truth value of an empty array is ambiguous. Returning False, but in future this will result in an error. Use `array.size > 0` to check that an array is not empty.\n",
      "  if diff:\n",
      "/Users/dylangreed/anaconda3/lib/python3.6/site-packages/sklearn/preprocessing/label.py:151: DeprecationWarning: The truth value of an empty array is ambiguous. Returning False, but in future this will result in an error. Use `array.size > 0` to check that an array is not empty.\n",
      "  if diff:\n",
      "/Users/dylangreed/anaconda3/lib/python3.6/site-packages/sklearn/preprocessing/label.py:151: DeprecationWarning: The truth value of an empty array is ambiguous. Returning False, but in future this will result in an error. Use `array.size > 0` to check that an array is not empty.\n",
      "  if diff:\n",
      "/Users/dylangreed/anaconda3/lib/python3.6/site-packages/sklearn/preprocessing/label.py:151: DeprecationWarning: The truth value of an empty array is ambiguous. Returning False, but in future this will result in an error. Use `array.size > 0` to check that an array is not empty.\n",
      "  if diff:\n",
      "/Users/dylangreed/anaconda3/lib/python3.6/site-packages/sklearn/preprocessing/label.py:151: DeprecationWarning: The truth value of an empty array is ambiguous. Returning False, but in future this will result in an error. Use `array.size > 0` to check that an array is not empty.\n",
      "  if diff:\n",
      "/Users/dylangreed/anaconda3/lib/python3.6/site-packages/sklearn/preprocessing/label.py:151: DeprecationWarning: The truth value of an empty array is ambiguous. Returning False, but in future this will result in an error. Use `array.size > 0` to check that an array is not empty.\n",
      "  if diff:\n",
      "/Users/dylangreed/anaconda3/lib/python3.6/site-packages/sklearn/preprocessing/label.py:151: DeprecationWarning: The truth value of an empty array is ambiguous. Returning False, but in future this will result in an error. Use `array.size > 0` to check that an array is not empty.\n",
      "  if diff:\n",
      "/Users/dylangreed/anaconda3/lib/python3.6/site-packages/sklearn/preprocessing/label.py:151: DeprecationWarning: The truth value of an empty array is ambiguous. Returning False, but in future this will result in an error. Use `array.size > 0` to check that an array is not empty.\n",
      "  if diff:\n",
      "/Users/dylangreed/anaconda3/lib/python3.6/site-packages/sklearn/preprocessing/label.py:151: DeprecationWarning: The truth value of an empty array is ambiguous. Returning False, but in future this will result in an error. Use `array.size > 0` to check that an array is not empty.\n",
      "  if diff:\n",
      "/Users/dylangreed/anaconda3/lib/python3.6/site-packages/sklearn/preprocessing/label.py:151: DeprecationWarning: The truth value of an empty array is ambiguous. Returning False, but in future this will result in an error. Use `array.size > 0` to check that an array is not empty.\n",
      "  if diff:\n",
      "/Users/dylangreed/anaconda3/lib/python3.6/site-packages/sklearn/preprocessing/label.py:151: DeprecationWarning: The truth value of an empty array is ambiguous. Returning False, but in future this will result in an error. Use `array.size > 0` to check that an array is not empty.\n",
      "  if diff:\n",
      "/Users/dylangreed/anaconda3/lib/python3.6/site-packages/sklearn/preprocessing/label.py:151: DeprecationWarning: The truth value of an empty array is ambiguous. Returning False, but in future this will result in an error. Use `array.size > 0` to check that an array is not empty.\n",
      "  if diff:\n",
      "/Users/dylangreed/anaconda3/lib/python3.6/site-packages/sklearn/preprocessing/label.py:151: DeprecationWarning: The truth value of an empty array is ambiguous. Returning False, but in future this will result in an error. Use `array.size > 0` to check that an array is not empty.\n",
      "  if diff:\n",
      "/Users/dylangreed/anaconda3/lib/python3.6/site-packages/sklearn/preprocessing/label.py:151: DeprecationWarning: The truth value of an empty array is ambiguous. Returning False, but in future this will result in an error. Use `array.size > 0` to check that an array is not empty.\n",
      "  if diff:\n",
      "/Users/dylangreed/anaconda3/lib/python3.6/site-packages/sklearn/preprocessing/label.py:151: DeprecationWarning: The truth value of an empty array is ambiguous. Returning False, but in future this will result in an error. Use `array.size > 0` to check that an array is not empty.\n",
      "  if diff:\n",
      "/Users/dylangreed/anaconda3/lib/python3.6/site-packages/sklearn/preprocessing/label.py:151: DeprecationWarning: The truth value of an empty array is ambiguous. Returning False, but in future this will result in an error. Use `array.size > 0` to check that an array is not empty.\n",
      "  if diff:\n",
      "/Users/dylangreed/anaconda3/lib/python3.6/site-packages/sklearn/preprocessing/label.py:151: DeprecationWarning: The truth value of an empty array is ambiguous. Returning False, but in future this will result in an error. Use `array.size > 0` to check that an array is not empty.\n",
      "  if diff:\n"
     ]
    },
    {
     "name": "stderr",
     "output_type": "stream",
     "text": [
      "/Users/dylangreed/anaconda3/lib/python3.6/site-packages/sklearn/preprocessing/label.py:151: DeprecationWarning: The truth value of an empty array is ambiguous. Returning False, but in future this will result in an error. Use `array.size > 0` to check that an array is not empty.\n",
      "  if diff:\n",
      "/Users/dylangreed/anaconda3/lib/python3.6/site-packages/sklearn/preprocessing/label.py:151: DeprecationWarning: The truth value of an empty array is ambiguous. Returning False, but in future this will result in an error. Use `array.size > 0` to check that an array is not empty.\n",
      "  if diff:\n",
      "/Users/dylangreed/anaconda3/lib/python3.6/site-packages/sklearn/preprocessing/label.py:151: DeprecationWarning: The truth value of an empty array is ambiguous. Returning False, but in future this will result in an error. Use `array.size > 0` to check that an array is not empty.\n",
      "  if diff:\n",
      "/Users/dylangreed/anaconda3/lib/python3.6/site-packages/sklearn/preprocessing/label.py:151: DeprecationWarning: The truth value of an empty array is ambiguous. Returning False, but in future this will result in an error. Use `array.size > 0` to check that an array is not empty.\n",
      "  if diff:\n",
      "/Users/dylangreed/anaconda3/lib/python3.6/site-packages/sklearn/preprocessing/label.py:151: DeprecationWarning: The truth value of an empty array is ambiguous. Returning False, but in future this will result in an error. Use `array.size > 0` to check that an array is not empty.\n",
      "  if diff:\n",
      "/Users/dylangreed/anaconda3/lib/python3.6/site-packages/sklearn/preprocessing/label.py:151: DeprecationWarning: The truth value of an empty array is ambiguous. Returning False, but in future this will result in an error. Use `array.size > 0` to check that an array is not empty.\n",
      "  if diff:\n",
      "/Users/dylangreed/anaconda3/lib/python3.6/site-packages/sklearn/preprocessing/label.py:151: DeprecationWarning: The truth value of an empty array is ambiguous. Returning False, but in future this will result in an error. Use `array.size > 0` to check that an array is not empty.\n",
      "  if diff:\n",
      "/Users/dylangreed/anaconda3/lib/python3.6/site-packages/sklearn/preprocessing/label.py:151: DeprecationWarning: The truth value of an empty array is ambiguous. Returning False, but in future this will result in an error. Use `array.size > 0` to check that an array is not empty.\n",
      "  if diff:\n",
      "/Users/dylangreed/anaconda3/lib/python3.6/site-packages/sklearn/preprocessing/label.py:151: DeprecationWarning: The truth value of an empty array is ambiguous. Returning False, but in future this will result in an error. Use `array.size > 0` to check that an array is not empty.\n",
      "  if diff:\n",
      "/Users/dylangreed/anaconda3/lib/python3.6/site-packages/sklearn/preprocessing/label.py:151: DeprecationWarning: The truth value of an empty array is ambiguous. Returning False, but in future this will result in an error. Use `array.size > 0` to check that an array is not empty.\n",
      "  if diff:\n",
      "/Users/dylangreed/anaconda3/lib/python3.6/site-packages/sklearn/preprocessing/label.py:151: DeprecationWarning: The truth value of an empty array is ambiguous. Returning False, but in future this will result in an error. Use `array.size > 0` to check that an array is not empty.\n",
      "  if diff:\n",
      "/Users/dylangreed/anaconda3/lib/python3.6/site-packages/sklearn/preprocessing/label.py:151: DeprecationWarning: The truth value of an empty array is ambiguous. Returning False, but in future this will result in an error. Use `array.size > 0` to check that an array is not empty.\n",
      "  if diff:\n",
      "/Users/dylangreed/anaconda3/lib/python3.6/site-packages/sklearn/preprocessing/label.py:151: DeprecationWarning: The truth value of an empty array is ambiguous. Returning False, but in future this will result in an error. Use `array.size > 0` to check that an array is not empty.\n",
      "  if diff:\n"
     ]
    }
   ],
   "source": [
    "# Learning Rate to avoid overfitting\n",
    "learning_rate = [x for x in np.linspace(0.01,0.1, num = 10)]\n",
    "# Number of trees\n",
    "n_estimators = [int(x) for x in np.linspace(start = 200, stop = 2000, num =20)]\n",
    "#Maximum number of levels in tree\n",
    "max_depth = [int(x) for x in np.linspace(3,10, num = 7)]\n",
    "#\n",
    "subsample = [x for x in np.linspace(0.8,1, num = 5)]\n",
    "#\n",
    "colsample_bytree = [x for x in np.linspace(0.3,0.8, num = 5)]\n",
    "#\n",
    "gamma = [0,1,5]\n",
    "\n",
    "random_grid = {  'learning_rate': learning_rate ,'n_estimators': n_estimators, \n",
    "                'max_depth': max_depth, 'subsample': subsample,\n",
    "                  'colsample_bytree': colsample_bytree, 'gamma': gamma}\n",
    "\n",
    "n_iter_search = 10\n",
    "bst = xgb.XGBClassifier()\n",
    "clf = RandomizedSearchCV(bst, param_distributions = random_grid,n_iter=n_iter_search, cv=5, n_jobs=1).fit(X_train, y_train)"
   ]
  },
  {
   "cell_type": "code",
   "execution_count": 24,
   "metadata": {},
   "outputs": [
    {
     "data": {
      "text/plain": [
       "{'subsample': 0.8,\n",
       " 'n_estimators': 578,\n",
       " 'max_depth': 4,\n",
       " 'learning_rate': 0.08,\n",
       " 'gamma': 1,\n",
       " 'colsample_bytree': 0.425}"
      ]
     },
     "execution_count": 24,
     "metadata": {},
     "output_type": "execute_result"
    }
   ],
   "source": [
    "clf.best_params_"
   ]
  },
  {
   "cell_type": "markdown",
   "metadata": {},
   "source": [
    "# Model Evaluation"
   ]
  },
  {
   "cell_type": "code",
   "execution_count": null,
   "metadata": {},
   "outputs": [],
   "source": []
  }
 ],
 "metadata": {
  "kernelspec": {
   "display_name": "Python 3",
   "language": "python",
   "name": "python3"
  },
  "language_info": {
   "codemirror_mode": {
    "name": "ipython",
    "version": 3
   },
   "file_extension": ".py",
   "mimetype": "text/x-python",
   "name": "python",
   "nbconvert_exporter": "python",
   "pygments_lexer": "ipython3",
   "version": "3.6.5"
  }
 },
 "nbformat": 4,
 "nbformat_minor": 2
}
