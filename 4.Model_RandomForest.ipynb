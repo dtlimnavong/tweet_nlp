{
 "cells": [
  {
   "cell_type": "markdown",
   "metadata": {},
   "source": [
    "### Read and Clean Data"
   ]
  },
  {
   "cell_type": "code",
   "execution_count": 15,
   "metadata": {},
   "outputs": [],
   "source": [
    "import pandas as pd\n",
    "import re\n",
    "import string\n",
    "import nltk\n",
    "import datetime\n",
    "from sklearn.feature_extraction.text import TfidfVectorizer\n",
    "from sklearn.feature_extraction.text import CountVectorizer\n",
    "\n",
    "pd.set_option('display.max_colwidth', 100)\n",
    "\n",
    "stopwords = nltk.corpus.stopwords.words('english')\n",
    "wn = nltk.WordNetLemmatizer()\n",
    "ps = nltk.PorterStemmer()\n",
    "\n",
    "data = pd.read_csv(\"train.csv\")\n",
    "\n",
    "def clean_text(text):\n",
    "    text = \"\".join([word.lower() for word in text if word not in string.punctuation])\n",
    "    text = re.sub('http.*', 'http', text)\n",
    "    tokens = re.split('\\W+', text)\n",
    "    text = [wn.lemmatize(word) for word in tokens if word not in stopwords]\n",
    "    #text = [ps.stem(word) for word in tokens if word not in stopwords]\n",
    "    return text\n",
    "\n",
    "def count_punct(text):\n",
    "    count = sum([1 for char in text if char in string.punctuation])\n",
    "    return round(count/(len(text) - text.count(\" \")), 3)*100\n",
    "\n",
    "def day_of_week(text):\n",
    "    date = re.findall(r'\\d+\\S\\d+\\S\\d+', text)\n",
    "    month, day, year = (int(x) for x in date[0].split('/'))    \n",
    "    ans = datetime.date(year, month, day)\n",
    "    day_week = ans.weekday()\n",
    "    return day_week\n",
    "\n",
    "def get_time(text): \n",
    "    time = re.findall('..:+..', text)\n",
    "    hour, minute = (int(x) for x in time[0].split(':')) \n",
    "    minute = round(minute, -1)\n",
    "    if minute ==60:\n",
    "        minute = 0\n",
    "        hour = hour +1\n",
    "    if hour >24:\n",
    "        hour = hour % 24\n",
    "    round_time = hour*100 + minute \n",
    "    return round_time\n",
    "\n",
    "\n",
    "data['text_nolink'] = data['text'].apply(lambda x: re.sub('http.*', 'http', x))\n",
    "data['text_len'] = data['text_nolink'].apply(lambda x: len(x) - x.count(\" \"))\n",
    "data['punct%'] = data['text_nolink'].apply(lambda x: count_punct(x))\n",
    "data['punct%_trans'] = (data['punct%'])**(1/2)\n",
    "data['time'] = data['created'].apply(lambda x: get_time(x))\n",
    "data['day_week'] = data['created'].apply(lambda x: day_of_week(x))\n",
    "\n",
    "tfidf_vect = TfidfVectorizer(analyzer=clean_text)\n",
    "X_tfidf = tfidf_vect.fit_transform(data['text'])\n",
    "\n",
    "ngram_vect = CountVectorizer(ngram_range=(2,2))\n",
    "X_counts = ngram_vect.fit_transform(data['text'])\n",
    "\n",
    "#X_features = pd.concat([data['text_len'], data['punct%'],data['day_week'], data['time'], data['favoriteCount'],\n",
    "#                        data['retweetCount'],pd.DataFrame(X_tfidf.toarray())], axis=1)\n",
    "\n",
    "X_features = pd.concat([data['text_len'], data['punct%'],data['day_week'], data['time'], data['favoriteCount'],\n",
    "                        data['retweetCount'],pd.DataFrame(X_counts.toarray())], axis=1)"
   ]
  },
  {
   "cell_type": "markdown",
   "metadata": {},
   "source": [
    "### Train-test evaluation "
   ]
  },
  {
   "cell_type": "code",
   "execution_count": 16,
   "metadata": {},
   "outputs": [],
   "source": [
    "from sklearn.metrics import precision_recall_fscore_support as score\n",
    "from sklearn.model_selection import train_test_split"
   ]
  },
  {
   "cell_type": "code",
   "execution_count": 17,
   "metadata": {},
   "outputs": [],
   "source": [
    "X_train, X_test, y_train, y_test = train_test_split(X_features, data['label'], test_size=0.2)"
   ]
  },
  {
   "cell_type": "markdown",
   "metadata": {},
   "source": [
    "### Vectorize test"
   ]
  },
  {
   "cell_type": "code",
   "execution_count": 18,
   "metadata": {},
   "outputs": [],
   "source": [
    "from sklearn.ensemble import RandomForestClassifier\n",
    "n=500\n",
    "\n",
    "rf = RandomForestClassifier(n_estimators=n, n_jobs=-1)\n",
    "rf_model = rf.fit(X_train, y_train)"
   ]
  },
  {
   "cell_type": "code",
   "execution_count": 19,
   "metadata": {},
   "outputs": [],
   "source": [
    "y_pred = rf_model.predict(X_test)\n",
    "precision, recall, fscore, support = score(y_test, y_pred, pos_label=1, average='binary')"
   ]
  },
  {
   "cell_type": "code",
   "execution_count": 20,
   "metadata": {},
   "outputs": [
    {
     "name": "stdout",
     "output_type": "stream",
     "text": [
      "Precision: 0.803 / Recall: 0.955 / Accuracy: 0.858\n"
     ]
    }
   ],
   "source": [
    "print('Precision: {} / Recall: {} / Accuracy: {}'.format(round(precision, 3),\n",
    "                                                        round(recall, 3),\n",
    "                                                        round((y_pred==y_test).sum() / len(y_pred),3)))"
   ]
  },
  {
   "cell_type": "code",
   "execution_count": 21,
   "metadata": {},
   "outputs": [
    {
     "data": {
      "text/plain": [
       "[(0.09498893945627206, 4999),\n",
       " (0.05986627185194537, 'text_len'),\n",
       " (0.04164962081123097, 'time'),\n",
       " (0.03187706195597375, 9659),\n",
       " (0.029888296657392503, 10801),\n",
       " (0.015401255389713143, 'punct%'),\n",
       " (0.013658257473653972, 'retweetCount'),\n",
       " (0.01189321215861155, 'favoriteCount'),\n",
       " (0.008163389275608491, 6280),\n",
       " (0.0073338032704227075, 'day_week')]"
      ]
     },
     "execution_count": 21,
     "metadata": {},
     "output_type": "execute_result"
    }
   ],
   "source": [
    "sorted(zip(rf_model.feature_importances_, X_train.columns), reverse=True)[0:10]"
   ]
  },
  {
   "cell_type": "markdown",
   "metadata": {},
   "source": [
    "### Tuning Parameters"
   ]
  },
  {
   "cell_type": "code",
   "execution_count": 9,
   "metadata": {},
   "outputs": [],
   "source": [
    "from sklearn.model_selection import RandomizedSearchCV\n",
    "from time import time"
   ]
  },
  {
   "cell_type": "code",
   "execution_count": null,
   "metadata": {},
   "outputs": [],
   "source": [
    "rf = RandomForestClassifier()\n",
    "\n",
    "param_dist = {\"n_estimators\": [40,None],\n",
    "              \"max_depth\": [3, None]}\n",
    "n_iter_search = 4\n",
    "\n",
    "clf = RandomizedSearchCV(rf, param_distributions = param_dist,n_iter=n_iter_search, cv=5, n_jobs=-1)\n",
    "cv_fit = clf.fit(X_features, data['label'])\n",
    "pd.DataFrame(cv_fit.cv_results_).sort_values('mean_test_score', ascending=False)[0:5]"
   ]
  },
  {
   "cell_type": "code",
   "execution_count": null,
   "metadata": {},
   "outputs": [],
   "source": []
  }
 ],
 "metadata": {
  "kernelspec": {
   "display_name": "Python 3",
   "language": "python",
   "name": "python3"
  },
  "language_info": {
   "codemirror_mode": {
    "name": "ipython",
    "version": 3
   },
   "file_extension": ".py",
   "mimetype": "text/x-python",
   "name": "python",
   "nbconvert_exporter": "python",
   "pygments_lexer": "ipython3",
   "version": "3.6.5"
  }
 },
 "nbformat": 4,
 "nbformat_minor": 2
}
